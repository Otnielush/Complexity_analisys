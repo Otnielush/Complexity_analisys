{
 "cells": [
  {
   "cell_type": "code",
   "execution_count": 1,
   "metadata": {},
   "outputs": [],
   "source": [
    "import numpy as np\n",
    "import matplotlib.pyplot as plt\n",
    "plt.style.use('seaborn')\n",
    "import random\n",
    "import re"
   ]
  },
  {
   "cell_type": "markdown",
   "metadata": {},
   "source": [
    "# Targets:  \n",
    "1. Word entropy  \n",
    "2. Relative entropy of word structure  \n",
    "3. TTR  \n",
    "4. MTTR -זה לא קיים במאמר אבל הוא קיים, סוג של ממוצע נע של TTR"
   ]
  },
  {
   "cell_type": "markdown",
   "metadata": {},
   "source": [
    "## 1. Word entrophy:  \n",
    "чем больше спектр типов слов(спряжений и тп) тем больше информации упаковывается в слово нежели в словосочетание или предложение.  \n",
    "T - text  \n",
    "V - vocabulary of word types {w1,w2,w3,w4,..,wVV}\n",
    "VV = |V|  \n",
    "p(w) = Pr(T=w) for w in V   - probability of word type  \n",
    "\n",
    "> #### The average information content of word types  \n",
    "> H(T) = - sum( p(w_i) * log2(p(w_i)) ) from i=1 to VV\n"
   ]
  },
  {
   "cell_type": "markdown",
   "metadata": {},
   "source": [
    "### James-Stein shrinkage estimator\n",
    "> ~p(w_i)(shrink) = alpha * ~p(w_i)(target) + (1 - alpha) * ~p(w_i)(ML)  \n",
    "\n",
    "\\~p(w_i)(ML) - denotes the word probability according to the maximum likelihood account **max(~p(w))**   \n",
    "alpha in [0,1] -  “shrinkage intensity”  \n",
    "~p(w_i)(target) - “shrinkage target”  \n",
    "\n",
    "maximum entropy case of auniform = p(w_i) = 1 / V"
   ]
  },
  {
   "cell_type": "code",
   "execution_count": 2,
   "metadata": {},
   "outputs": [],
   "source": [
    "V = np.arange(0, 16, 1)  # types of word\n",
    "T = [random.choice(V) for _ in range(100)]  # text with differend type of words"
   ]
  },
  {
   "cell_type": "code",
   "execution_count": 3,
   "metadata": {},
   "outputs": [],
   "source": [
    "p = {x[0]:x[1]/len(T)   for x in np.transpose(np.unique(T, return_counts=True))} # probability of word type"
   ]
  },
  {
   "cell_type": "code",
   "execution_count": 4,
   "metadata": {},
   "outputs": [
    {
     "name": "stdout",
     "output_type": "stream",
     "text": [
      "{0: 0.09, 1: 0.06, 2: 0.04, 3: 0.06, 4: 0.08, 5: 0.07, 6: 0.04, 7: 0.03, 8: 0.08, 9: 0.03, 10: 0.09, 11: 0.04, 12: 0.07, 13: 0.09, 14: 0.08, 15: 0.05}\n",
      "sum 1.0\n"
     ]
    }
   ],
   "source": [
    "ss = 0\n",
    "for x in p:\n",
    "    ss += p[x]\n",
    "print(p) # all elements\n",
    "print('sum', round(ss, 5)) # summ of all probabilities"
   ]
  },
  {
   "cell_type": "markdown",
   "metadata": {},
   "source": [
    "#### James-Stein shrinkage estimator"
   ]
  },
  {
   "cell_type": "code",
   "execution_count": 5,
   "metadata": {},
   "outputs": [],
   "source": [
    "alpha = 0.7\n",
    "max_prob = p[max(p, key=p.get)] # maximum probability from our text\n",
    "alpha_func = lambda x: round(alpha*x + (1-alpha)*max_prob, 5)\n",
    "\n",
    "p_JS = {x:alpha_func(p[x]) for x in p}"
   ]
  },
  {
   "cell_type": "code",
   "execution_count": 6,
   "metadata": {},
   "outputs": [
    {
     "name": "stdout",
     "output_type": "stream",
     "text": [
      "{0: 0.09, 1: 0.069, 2: 0.055, 3: 0.069, 4: 0.083, 5: 0.076, 6: 0.055, 7: 0.048, 8: 0.083, 9: 0.048, 10: 0.09, 11: 0.055, 12: 0.076, 13: 0.09, 14: 0.083, 15: 0.062}\n",
      "sum 1.1320000000000001\n"
     ]
    }
   ],
   "source": [
    "print(p_JS)\n",
    "print('sum', sum([p_JS[x] for x in p_JS]))"
   ]
  },
  {
   "cell_type": "markdown",
   "metadata": {},
   "source": [
    "### Average information content"
   ]
  },
  {
   "cell_type": "code",
   "execution_count": 254,
   "metadata": {},
   "outputs": [],
   "source": [
    "def Word_entrophy(prob_dict):\n",
    "    return round(-sum( prob_dict[word] * np.log2((prob_dict[word])) for word in prob_dict ), 5)"
   ]
  },
  {
   "cell_type": "code",
   "execution_count": 10,
   "metadata": {},
   "outputs": [
    {
     "name": "stdout",
     "output_type": "stream",
     "text": [
      "AIC: 3.91356 \n",
      "AIC JS: 4.28918 \n",
      "random text std: 4.7964\n",
      "max probability: 0.09 \n",
      "min probability: 0.03\n"
     ]
    }
   ],
   "source": [
    "we_random_text = Word_entrophy(p)\n",
    "weJS_random_text = Word_entrophy(p_JS)\n",
    "print('WE:', we_random_text, '\\nWE JS:', weJS_random_text,'\\nrandom text std:', round(np.std(T), 4))\n",
    "print('max probability:', max_prob, '\\nmin probability:', p[min(p, key=p.get)])"
   ]
  },
  {
   "cell_type": "code",
   "execution_count": 11,
   "metadata": {},
   "outputs": [
    {
     "data": {
      "image/png": "[encoded data removed]",
      "text/plain": [
       "<Figure size 576x396 with 1 Axes>"
      ]
     },
     "metadata": {},
     "output_type": "display_data"
    }
   ],
   "source": [
    "we_func = [-x*np.log2(x+0.00000000001) for x in np.arange(0, 1, 0.01)]\n",
    "line = np.arange(0,1,0.01)\n",
    "plt.plot( line, we_func)\n",
    "plt.plot(line, line, 'r--')\n",
    "# plt.plot(line,  aic_func - line, '.')\n",
    "plt.show()"
   ]
  },
  {
   "cell_type": "markdown",
   "metadata": {},
   "source": [
    ">### if all probabilities the same?"
   ]
  },
  {
   "cell_type": "code",
   "execution_count": 13,
   "metadata": {},
   "outputs": [
    {
     "name": "stdout",
     "output_type": "stream",
     "text": [
      "{1: 0.0667, 2: 0.0667, 3: 0.0667, 4: 0.0667, 5: 0.0667, 6: 0.0667, 7: 0.0667, 8: 0.0667, 9: 0.0667, 10: 0.0667, 11: 0.0667, 12: 0.0667, 13: 0.0667, 14: 0.0667, 15: 0.0667}\n",
      "sum prob: 1.0005\n",
      "AIC test: 3.90812 \n",
      "probability of 1 element = 0.0667\n"
     ]
    }
   ],
   "source": [
    "VV = 15\n",
    "p_test = {x:round(1/VV, 4) for x in np.arange(1, VV+1, 1)}\n",
    "print(p_test)\n",
    "print('sum prob:', sum([p_test[x] for x in p_test]))\n",
    "aic_test = Word_entrophy(p_test)\n",
    "print('WE test:', aic_test, '\\nprobability of 1 element =', p_test[1])"
   ]
  },
  {
   "cell_type": "markdown",
   "metadata": {},
   "source": [
    "> ### half rare half often"
   ]
  },
  {
   "cell_type": "code",
   "execution_count": 14,
   "metadata": {},
   "outputs": [
    {
     "name": "stdout",
     "output_type": "stream",
     "text": [
      "{1: 0.1333, 2: 0.1333, 3: 0.1333, 4: 0.1333, 5: 0.1333, 6: 0.1333, 7: 0.1333, 8: 0.1333, 9: 0.0001, 10: 0.0001, 11: 0.0001, 12: 0.0001, 13: 0.0001, 14: 0.0001, 15: 0.0001}\n",
      "sum prob: 1.0671\n",
      "AIC test: 3.10959 \n",
      "max probability: 0.1333 \n",
      "min probability: 0.0001\n"
     ]
    }
   ],
   "source": [
    "VV = 15\n",
    "ttt = np.ones((VV)) / VV * 2  # probabilities\n",
    "ttt[int(np.ceil(VV/2)):] = 0.0001\n",
    "p_test2 = {x:round(y,4) for x,y in zip(np.arange(1, VV+1, 1), ttt)}\n",
    "print(p_test2)\n",
    "print('sum prob:', round(sum([p_test2[x] for x in p_test2]), 4))\n",
    "we_test2 = Word_entrophy(p_test2)\n",
    "print('WE test:', we_test2, '\\nmax probability:', p_test2[1], '\\nmin probability:', p_test2[VV])"
   ]
  },
  {
   "cell_type": "markdown",
   "metadata": {},
   "source": [
    "# 2.Relative entropy of word structure"
   ]
  },
  {
   "cell_type": "markdown",
   "metadata": {},
   "source": [
    "T - text drawn from alphabet A  \n",
    "A = {c1,c2,c3,..cAA} - alphabet  \n",
    "> ~H(T) = [ sum( l_i / log2(i+1) ) / n ]^-1 for i {1:n}\n",
    "\n",
    "n - number of characters in text (T)  \n",
    "l_i - is the length of the longest substring from position i onward that has not appeared before  \n",
    "> ~D = ~H(T_masked) - ~H(T_orig)\n",
    "\n",
    "T_masked - token of the same length but with characters randomly drawn with equal probability from the alphabet A"
   ]
  },
  {
   "cell_type": "markdown",
   "metadata": {},
   "source": [
    "#### Universal Entropy of Word Ordering Across Linguistic Families  \n",
    "https://journals.plos.org/plosone/article?id=10.1371/journal.pone.0019875\n",
    "\n",
    "Let us consider a whole symbolic sequence of length n as , where i denotes any position inside the sequence. For every position i, there is a length, l_i, corresponding to the **~shortest~** contiguous subsequence that starts at position i, and does not appear in any continuous subsequence starting anywhere between position 1 and . For instance, consider the following alphabetical sequence: CDABCDEABCZ; at position 8, the shortest mismatch is l8 = 4. After parsing the whole sequence, the resulting series  will contain information about the redundancy in it"
   ]
  },
  {
   "cell_type": "markdown",
   "metadata": {},
   "source": [
    "## Building random alphabet"
   ]
  },
  {
   "cell_type": "code",
   "execution_count": 28,
   "metadata": {},
   "outputs": [],
   "source": [
    "A = [chr(x) for x in np.arange(97, 97+26, 1)] # Alphabet"
   ]
  },
  {
   "cell_type": "code",
   "execution_count": 212,
   "metadata": {},
   "outputs": [],
   "source": [
    "def build_vocabulary(Alphabet, size, avr_len_word):\n",
    "    Voc = []\n",
    "    params = {'Alphabet':{x:0 for x in Alphabet}, 'Len_words': {}}\n",
    "    while len(Voc) < size:\n",
    "        len_word = max(int(random.normalvariate(avr_len_word, avr_len_word/3)), 1)\n",
    "        new_word = ''.join(random.choice(A) for i in range(len_word))\n",
    "        if new_word not in Voc:\n",
    "            Voc.append(new_word)\n",
    "            if len_word in params['Len_words']:\n",
    "                params['Len_words'][len_word] += 1\n",
    "            else:\n",
    "                params['Len_words'][len_word] = 1\n",
    "            for w in new_word:\n",
    "                params['Alphabet'][w] += 1\n",
    "    params['Len_words'] = dict(sorted(params['Len_words'].items()))\n",
    "            \n",
    "    return Voc, params"
   ]
  },
  {
   "cell_type": "markdown",
   "metadata": {},
   "source": [
    "## Building random vocabulary"
   ]
  },
  {
   "cell_type": "code",
   "execution_count": 219,
   "metadata": {},
   "outputs": [
    {
     "name": "stdout",
     "output_type": "stream",
     "text": [
      "['puu' 'nnue' 'iutj' 'rkutec' 'jpdg' 'ckjxe' 'tcpsm' 'dzkr' 'xltqj'\n",
      " 'ibhds' 'vovxy' 'fjq' 'skn' 'ac' 'rxifk' 'vb' 'vq' 'hgua' 'ce' 'bjdl'\n",
      " 'pqxh' 'kghs' 'yrxt' 'ybfor' 'wr' 'zo' 'cyai' 'elfj' 'fc' 'pa' 'ti' 'a'\n",
      " 'qm' 'zhep' 'ujwq' 'zn' 'ge' 'ghco' 'gp' 'tksp' 'bfn' 'hfqlkyj' 'ijy'\n",
      " 'ugjy' 'vf' 'buvh' 'lc' 'svdgh' 'bnm' 'zr' 'angwwa' 'cqycu' 'ejlnx' 'bs'\n",
      " 'ki' 'lon' 'ng' 'mmpcn' 'ufsn' 'p' 'qorn' 'lgox' 'uq' 'ljnwd' 'fhhom'\n",
      " 'itpi' 'hizia' 'vrgc' 'hz' 'vckg' 'ytt' 'nnsl' 'qzy' 'emlbf' 'opf' 'cv'\n",
      " 'lbi' 'pepsc' 'kbnsse' 'fjm' 'orjp' 'j' 'yrk' 'qrm' 'wwy' 'mvpl' 'mzy'\n",
      " 'qetj' 'i' 'wggedy' 'w' 'qjgg' 'wlyo' 'uitg' 'umkpmbd' 'mvkii' 'y' 'ft'\n",
      " 'nuw' 'ta' 'hhz' 'kx' 'tr' 'abnx' 'sju' 'lg' 'euxko' 'x' 'ut' 'ofkm'\n",
      " 'purc' 'xbj' 'pekl' 'pnubl' 'reprx' 'sq' 'b' 'xvmwx' 'aeavhy' 'rnz'\n",
      " 'blnia' 'wsjpl' 'u' 'jkmttfb' 'cz' 'e' 'qcyk' 'xzxgcqn' 'zavyg' 'nzzit'\n",
      " 'mj' 'zfqtw' 'wzk' 'abim' 'cu' 'llk' 'noj' 'yov' 'ucd' 'jhae' 'fmuf'\n",
      " 'vkoqgm' 'v' 'laz' 'ybv' 'ybfx' 'avo' 'oe' 'qwg' 'yav' 'fe' 'sjy' 'zwl'\n",
      " 'ohew' 'wp' 'iujq' 'mwj' 'czlf' 'qjule' 'f' 'io' 'pal' 'nhbp' 'dei' 'bsa'\n",
      " 'xnm' 'zf' 'rannf' 'cxz' 'df' 'tx' 'duc' 'crirj' 'c' 'kiog' 'ebwx' 'fwqd'\n",
      " 'fuvqa' 'ujgpdc' 'zoy' 'umsdv' 'xzzkp' 'koqc' 'fr' 'bmz' 'kg' 'zw'\n",
      " 'erecv' 'pzs' 'pte' 'mq' 'kz' 'hrv' 'jszf' 'rgjf' 'ujnl' 'vas' 'xpaf'\n",
      " 'ympe' 'wjcd']\n"
     ]
    }
   ],
   "source": [
    "avr_len_word = 4\n",
    "num_words = 200\n",
    "\n",
    "V, voc_params = build_vocabulary(A, num_words, avr_len_word)\n",
    "print(np.array(L))"
   ]
  },
  {
   "cell_type": "code",
   "execution_count": 220,
   "metadata": {},
   "outputs": [
    {
     "name": "stdout",
     "output_type": "stream",
     "text": [
      "Alphabet:  {'a': 27, 'b': 25, 'c': 29, 'd': 33, 'e': 28, 'f': 40, 'g': 24, 'h': 26, 'i': 32, 'j': 18, 'k': 32, 'l': 29, 'm': 24, 'n': 24, 'o': 28, 'p': 27, 'q': 23, 'r': 42, 's': 28, 't': 31, 'u': 24, 'v': 20, 'w': 31, 'x': 33, 'y': 18, 'z': 15} \n",
      "Len_words:  {1: 11, 2: 29, 3: 58, 4: 57, 5: 34, 6: 9, 7: 1, 9: 1}\n"
     ]
    }
   ],
   "source": [
    "print('Alphabet: ',voc_params['Alphabet'],'\\nLen_words: ', voc_params['Len_words'])"
   ]
  },
  {
   "cell_type": "code",
   "execution_count": 221,
   "metadata": {},
   "outputs": [
    {
     "data": {
      "image/png": "[encoded data removed]",
      "text/plain": [
       "<Figure size 576x396 with 1 Axes>"
      ]
     },
     "metadata": {},
     "output_type": "display_data"
    }
   ],
   "source": [
    "plt.bar(voc_params['Len_words'].keys(), voc_params['Len_words'].values())\n",
    "plt.title('distribution of lenght word')\n",
    "plt.xticks(np.arange(1, max(voc_params['Len_words'].keys())+1, 1))\n",
    "plt.show()"
   ]
  },
  {
   "cell_type": "code",
   "execution_count": 222,
   "metadata": {},
   "outputs": [
    {
     "data": {
      "image/png": "[encoded data removed]",
      "text/plain": [
       "<Figure size 576x396 with 1 Axes>"
      ]
     },
     "metadata": {},
     "output_type": "display_data"
    }
   ],
   "source": [
    "plt.bar(voc_params['Alphabet'].keys(), voc_params['Alphabet'].values())\n",
    "plt.title('distribution of letters in vocabulary')\n",
    "# plt.xticks(np.arange(1, max(voc_params['Len_words'].keys())+1, 1))\n",
    "plt.show()"
   ]
  },
  {
   "cell_type": "markdown",
   "metadata": {},
   "source": [
    "## Building random text"
   ]
  },
  {
   "cell_type": "code",
   "execution_count": 251,
   "metadata": {},
   "outputs": [],
   "source": [
    "text_len = 250\n",
    "T = [random.choice(V) for _ in range(text_len)]\n",
    "pps = np.unique(T, return_counts=True)\n",
    "words_frequency = {pps[0][i]:pps[1][i] for i in range(len(pps[0]))}\n",
    "del(pps)"
   ]
  },
  {
   "cell_type": "code",
   "execution_count": 253,
   "metadata": {},
   "outputs": [
    {
     "data": {
      "image/png": "[encoded data removed]",
      "text/plain": [
       "<Figure size 576x396 with 1 Axes>"
      ]
     },
     "metadata": {},
     "output_type": "display_data"
    }
   ],
   "source": [
    "plt.bar(np.arange(0, len(words_frequency.keys()),1), words_frequency.values())\n",
    "plt.title('words frequency in text')\n",
    "# plt.xticks(np.arange(1, max(voc_params['Len_words'].keys())+1, 1))\n",
    "plt.show()"
   ]
  },
  {
   "cell_type": "code",
   "execution_count": 387,
   "metadata": {},
   "outputs": [],
   "source": [
    "def longest_substring(text):\n",
    "    # last index of every character\n",
    "    last_idx = {}\n",
    "    max_len = 0\n",
    " \n",
    "    # starting index of current \n",
    "    # window to calculate max_len\n",
    "    start_idx = 0\n",
    " \n",
    "    for i in range(0, len(string)):\n",
    "       \n",
    "        # Find the last index of str[i]\n",
    "        # Update start_idx (starting index of current window)\n",
    "        # as maximum of current value of start_idx and last\n",
    "        # index plus 1\n",
    "        if string[i] in last_idx:\n",
    "            start_idx = max(start_idx, last_idx[string[i]] + 1)\n",
    " \n",
    "        # Update result if we get a larger window\n",
    "        max_len = max(max_len, i-start_idx + 1)\n",
    " \n",
    "        # Update last index of current char.\n",
    "        last_idx[string[i]] = i\n",
    " \n",
    "    return max_len\n",
    "\n",
    "def max_shortest_substring(text, i):\n",
    "    max_len = 0\n",
    "    start = 0\n",
    "    exist = 1\n",
    "    lenght = 0\n",
    "    text_len = len(text)\n",
    "    while True:\n",
    "        while exist and (i + start + lenght) <= text_len:\n",
    "            lenght += 1\n",
    "            exist_old = exist\n",
    "            exist = re.search(text[i + start: i + start + lenght], text[:i])\n",
    "        if max_len < lenght and exist is None:\n",
    "            max_len = lenght\n",
    "#             print(text[exist_old.start():exist_old.end()])\n",
    "        lenght = 0\n",
    "        start += 1\n",
    "        exist = 1\n",
    "        if text_len - (i + start) < max_len:\n",
    "            return max_len\n",
    "            \n",
    "\n",
    "def Relative_entropy(text):\n",
    "    summ = 0\n",
    "    text = ''.join(text).translate({ord(i): None for i in '“”<>,][.;:!?)/−(\" '+\"'\"})\n",
    "    print('00.00%', end='')\n",
    "    for i in np.arange(0, len(text), 1):\n",
    "        \n",
    "        l = max_shortest_substring(text, i)  # max length of the shortest substring from position i onward that has not appeared before \n",
    "        summ += ( l / np.log2(i+1+1) )  # \"i+1+1\" in formula cicle from 1, we go from 0\n",
    "        print('\\r{:2.2f}%   char possition = {}'.format((i+1)/len(text)*100, i), end='')\n",
    "\n",
    "    return pow(summ, -1)\n",
    "        "
   ]
  },
  {
   "cell_type": "code",
   "execution_count": 388,
   "metadata": {},
   "outputs": [
    {
     "name": "stdout",
     "output_type": "stream",
     "text": [
      "100.00%   i = 895"
     ]
    },
    {
     "data": {
      "text/plain": [
       "0.0013124567549737739"
      ]
     },
     "execution_count": 388,
     "metadata": {},
     "output_type": "execute_result"
    }
   ],
   "source": [
    "RE = Relative_entropy(T)\n",
    "RE"
   ]
  },
  {
   "cell_type": "code",
   "execution_count": 373,
   "metadata": {},
   "outputs": [],
   "source": [
    "text = 'qwdaerw dfqdfsda eaa'"
   ]
  }
 ],
 "metadata": {
  "kernelspec": {
   "display_name": "Python 3",
   "language": "python",
   "name": "python3"
  },
  "language_info": {
   "codemirror_mode": {
    "name": "ipython",
    "version": 3
   },
   "file_extension": ".py",
   "mimetype": "text/x-python",
   "name": "python",
   "nbconvert_exporter": "python",
   "pygments_lexer": "ipython3",
   "version": "3.8.5"
  }
 },
 "nbformat": 4,
 "nbformat_minor": 4
}
