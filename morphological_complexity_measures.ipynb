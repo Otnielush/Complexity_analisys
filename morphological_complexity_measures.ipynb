{
 "cells": [
  {
   "cell_type": "code",
   "execution_count": 1,
   "metadata": {},
   "outputs": [],
   "source": [
    "import numpy as np\n",
    "import matplotlib.pyplot as plt\n",
    "plt.style.use('seaborn')\n",
    "import random\n",
    "import re\n",
    "import copy"
   ]
  },
  {
   "cell_type": "markdown",
   "metadata": {},
   "source": [
    "# Targets:  \n",
    "1. Word entropy  \n",
    "2. Relative entropy of word structure  \n",
    "3. TTR  \n",
    "4. MTTR -זה לא קיים במאמר אבל הוא קיים, סוג של ממוצע נע של TTR"
   ]
  },
  {
   "cell_type": "markdown",
   "metadata": {},
   "source": [
    "## 1. Word entrophy:  \n",
    "чем больше спектр типов слов(спряжений и тп) тем больше информации упаковывается в слово нежели в словосочетание или предложение.  \n",
    "T - text  \n",
    "V - vocabulary of word types {w1,w2,w3,w4,..,wVV}\n",
    "VV = |V|  \n",
    "p(w) = Pr(T=w) for w in V   - probability of word type  \n",
    "\n",
    "> #### The average information content of word types  \n",
    "> H(T) = - sum( p(w_i) * log2(p(w_i)) ) from i=1 to VV\n"
   ]
  },
  {
   "cell_type": "markdown",
   "metadata": {},
   "source": [
    "### James-Stein shrinkage estimator\n",
    "> ~p(w_i)(shrink) = alpha * ~p(w_i)(target) + (1 - alpha) * ~p(w_i)(ML)  \n",
    "\n",
    "\\~p(w_i)(ML) - denotes the word probability according to the maximum likelihood account **max(~p(w))**   \n",
    "alpha in [0,1] -  “shrinkage intensity”  \n",
    "~p(w_i)(target) - “shrinkage target”  \n",
    "\n",
    "maximum entropy case of auniform = p(w_i) = 1 / V"
   ]
  },
  {
   "cell_type": "code",
   "execution_count": 2,
   "metadata": {},
   "outputs": [],
   "source": [
    "V = np.arange(0, 16, 1)  # types of word\n",
    "T = [random.choice(V) for _ in range(100)]  # text with differend type of words"
   ]
  },
  {
   "cell_type": "code",
   "execution_count": 3,
   "metadata": {},
   "outputs": [],
   "source": [
    "p = {x[0]:x[1]/len(T)   for x in np.transpose(np.unique(T, return_counts=True))} # probability of word type"
   ]
  },
  {
   "cell_type": "code",
   "execution_count": 4,
   "metadata": {},
   "outputs": [
    {
     "name": "stdout",
     "output_type": "stream",
     "text": [
      "{0: 0.06, 1: 0.1, 2: 0.02, 3: 0.07, 4: 0.07, 5: 0.05, 6: 0.05, 7: 0.08, 8: 0.05, 9: 0.1, 10: 0.04, 11: 0.07, 12: 0.09, 13: 0.07, 14: 0.02, 15: 0.06}\n",
      "sum 1.0\n"
     ]
    }
   ],
   "source": [
    "ss = 0\n",
    "for x in p:\n",
    "    ss += p[x]\n",
    "print(p) # all elements\n",
    "print('sum', round(ss, 5)) # summ of all probabilities"
   ]
  },
  {
   "cell_type": "markdown",
   "metadata": {},
   "source": [
    "#### James-Stein shrinkage estimator"
   ]
  },
  {
   "cell_type": "code",
   "execution_count": 5,
   "metadata": {},
   "outputs": [],
   "source": [
    "alpha = 0.7\n",
    "max_prob = p[max(p, key=p.get)] # maximum probability from our text\n",
    "alpha_func = lambda x: round(alpha*x + (1-alpha)*max_prob, 5)\n",
    "\n",
    "p_JS = {x:alpha_func(p[x]) for x in p}"
   ]
  },
  {
   "cell_type": "code",
   "execution_count": 6,
   "metadata": {},
   "outputs": [
    {
     "name": "stdout",
     "output_type": "stream",
     "text": [
      "{0: 0.072, 1: 0.1, 2: 0.044, 3: 0.079, 4: 0.079, 5: 0.065, 6: 0.065, 7: 0.086, 8: 0.065, 9: 0.1, 10: 0.058, 11: 0.079, 12: 0.093, 13: 0.079, 14: 0.044, 15: 0.072}\n",
      "sum 1.1800000000000002\n"
     ]
    }
   ],
   "source": [
    "print(p_JS)\n",
    "print('sum', sum([p_JS[x] for x in p_JS]))"
   ]
  },
  {
   "cell_type": "markdown",
   "metadata": {},
   "source": [
    "### Average information content"
   ]
  },
  {
   "cell_type": "code",
   "execution_count": 7,
   "metadata": {},
   "outputs": [],
   "source": [
    "def Word_entrophy(prob_dict):\n",
    "    return round(-sum( prob_dict[word] * np.log2((prob_dict[word])) for word in prob_dict ), 5)"
   ]
  },
  {
   "cell_type": "code",
   "execution_count": 8,
   "metadata": {},
   "outputs": [
    {
     "name": "stdout",
     "output_type": "stream",
     "text": [
      "WE: 3.88963 \n",
      "WE JS: 4.39504 \n",
      "random text std: 4.5184\n",
      "max probability: 0.1 \n",
      "min probability: 0.02\n"
     ]
    }
   ],
   "source": [
    "we_random_text = Word_entrophy(p)\n",
    "weJS_random_text = Word_entrophy(p_JS)\n",
    "print('WE:', we_random_text, '\\nWE JS:', weJS_random_text,'\\nrandom text std:', round(np.std(T), 4))\n",
    "print('max probability:', max_prob, '\\nmin probability:', p[min(p, key=p.get)])"
   ]
  },
  {
   "cell_type": "code",
   "execution_count": 9,
   "metadata": {},
   "outputs": [
    {
     "data": {
      "image/png": "[encoded data removed]",
      "text/plain": [
       "<Figure size 576x396 with 1 Axes>"
      ]
     },
     "metadata": {},
     "output_type": "display_data"
    }
   ],
   "source": [
    "we_func = [-x*np.log2(x+0.00000000001) for x in np.arange(0, 1, 0.01)]\n",
    "line = np.arange(0,1,0.01)\n",
    "plt.plot( line, we_func)\n",
    "plt.plot(line, line, 'r--')\n",
    "# plt.plot(line,  aic_func - line, '.')\n",
    "plt.show()"
   ]
  },
  {
   "cell_type": "markdown",
   "metadata": {},
   "source": [
    ">### if all probabilities the same?"
   ]
  },
  {
   "cell_type": "code",
   "execution_count": 10,
   "metadata": {},
   "outputs": [
    {
     "name": "stdout",
     "output_type": "stream",
     "text": [
      "{1: 0.0667, 2: 0.0667, 3: 0.0667, 4: 0.0667, 5: 0.0667, 6: 0.0667, 7: 0.0667, 8: 0.0667, 9: 0.0667, 10: 0.0667, 11: 0.0667, 12: 0.0667, 13: 0.0667, 14: 0.0667, 15: 0.0667}\n",
      "sum prob: 1.0005\n",
      "WE test: 3.90812 \n",
      "probability of 1 element = 0.0667\n"
     ]
    }
   ],
   "source": [
    "VV = 15\n",
    "p_test = {x:round(1/VV, 4) for x in np.arange(1, VV+1, 1)}\n",
    "print(p_test)\n",
    "print('sum prob:', sum([p_test[x] for x in p_test]))\n",
    "aic_test = Word_entrophy(p_test)\n",
    "print('WE test:', aic_test, '\\nprobability of 1 element =', p_test[1])"
   ]
  },
  {
   "cell_type": "markdown",
   "metadata": {},
   "source": [
    "> ### half rare half often"
   ]
  },
  {
   "cell_type": "code",
   "execution_count": 11,
   "metadata": {},
   "outputs": [
    {
     "name": "stdout",
     "output_type": "stream",
     "text": [
      "{1: 0.1333, 2: 0.1333, 3: 0.1333, 4: 0.1333, 5: 0.1333, 6: 0.1333, 7: 0.1333, 8: 0.1333, 9: 0.0001, 10: 0.0001, 11: 0.0001, 12: 0.0001, 13: 0.0001, 14: 0.0001, 15: 0.0001}\n",
      "sum prob: 1.0671\n",
      "WE test: 3.10959 \n",
      "max probability: 0.1333 \n",
      "min probability: 0.0001\n"
     ]
    }
   ],
   "source": [
    "VV = 15\n",
    "ttt = np.ones((VV)) / VV * 2  # probabilities\n",
    "ttt[int(np.ceil(VV/2)):] = 0.0001\n",
    "p_test2 = {x:round(y,4) for x,y in zip(np.arange(1, VV+1, 1), ttt)}\n",
    "print(p_test2)\n",
    "print('sum prob:', round(sum([p_test2[x] for x in p_test2]), 4))\n",
    "we_test2 = Word_entrophy(p_test2)\n",
    "print('WE test:', we_test2, '\\nmax probability:', p_test2[1], '\\nmin probability:', p_test2[VV])"
   ]
  },
  {
   "cell_type": "markdown",
   "metadata": {},
   "source": [
    "# 2.Relative entropy of word structure"
   ]
  },
  {
   "cell_type": "markdown",
   "metadata": {},
   "source": [
    "T - text drawn from alphabet A  \n",
    "A = {c1,c2,c3,..cAA} - alphabet  \n",
    "> ~H(T) = [ sum( l_i / log2(i+1) ) / n ]^-1 for i {1:n}\n",
    "\n",
    "n - number of characters in text (T)  \n",
    "l_i - is the length of the longest substring from position i onward that has not appeared before  \n",
    "> ~D = ~H(T_masked) - ~H(T_orig)\n",
    "\n",
    "T_masked - token of the same length but with characters randomly drawn with equal probability from the alphabet A"
   ]
  },
  {
   "cell_type": "markdown",
   "metadata": {},
   "source": [
    "#### Universal Entropy of Word Ordering Across Linguistic Families  \n",
    "https://journals.plos.org/plosone/article?id=10.1371/journal.pone.0019875\n",
    "\n",
    "Let us consider a whole symbolic sequence of length n as , where i denotes any position inside the sequence. For every position i, there is a length, l_i, corresponding to the **~shortest~** contiguous subsequence that starts at position i, and does not appear in any continuous subsequence starting anywhere between position 1 and . For instance, consider the following alphabetical sequence: CDABCDEABCZ; at position 8, the shortest mismatch is l8 = 4. After parsing the whole sequence, the resulting series  will contain information about the redundancy in it"
   ]
  },
  {
   "cell_type": "markdown",
   "metadata": {},
   "source": [
    "## Building random alphabet"
   ]
  },
  {
   "cell_type": "code",
   "execution_count": 12,
   "metadata": {},
   "outputs": [],
   "source": [
    "A = [chr(x) for x in np.arange(97, 97+26, 1)] # Alphabet"
   ]
  },
  {
   "cell_type": "code",
   "execution_count": 13,
   "metadata": {},
   "outputs": [],
   "source": [
    "def build_vocabulary(Alphabet, size, avr_len_word):\n",
    "    Voc = []\n",
    "    params = {'Alphabet':{x:0 for x in Alphabet}, 'Len_words': {}}\n",
    "    while len(Voc) < size:\n",
    "        len_word = max(int(random.normalvariate(avr_len_word, avr_len_word/3)), 1)\n",
    "        new_word = ''.join(random.choice(A) for i in range(len_word))\n",
    "        if new_word not in Voc:\n",
    "            Voc.append(new_word)\n",
    "            if len_word in params['Len_words']:\n",
    "                params['Len_words'][len_word] += 1\n",
    "            else:\n",
    "                params['Len_words'][len_word] = 1\n",
    "            for w in new_word:\n",
    "                params['Alphabet'][w] += 1\n",
    "    params['Len_words'] = dict(sorted(params['Len_words'].items()))\n",
    "            \n",
    "    return Voc, params"
   ]
  },
  {
   "cell_type": "markdown",
   "metadata": {},
   "source": [
    "## Building random vocabulary"
   ]
  },
  {
   "cell_type": "code",
   "execution_count": 14,
   "metadata": {},
   "outputs": [
    {
     "name": "stdout",
     "output_type": "stream",
     "text": [
      "['kpu' 'yyjuo' 'xyeyr' 'dub' 'qbp' 'sknui' 'rj' 'agcwr' 'm' 'twkoe' 'deft'\n",
      " 'ymjp' 'ho' 'zuxz' 'cztbw' 'l' 'kcr' 'wlk' 'ubza' 'fkzkn' 'ohez' 'pbh'\n",
      " 'rlteq' 'yvx' 'yz' 'yzf' 'lzii' 'ecl' 'vyk' 'txin' 'uit' 'zdv' 'tu'\n",
      " 'gvthvm' 'nrzz' 'abda' 'd' 'gtnhz' 'vtf' 'ox' 'sumvm' 'gesd' 'cgyvo'\n",
      " 'ogc' 'zwrkx' 'gyha' 'sis' 'yjll' 'quili' 'ekx' 'jtls' 'xwf' 'plsj'\n",
      " 'tvxx' 'nje' 'aitb' 'srjbhr' 'eyfhk' 'yzid' 'fpje' 'ntx' 'azwp' 'lcor'\n",
      " 'jeh' 'cdyb' 'rnj' 'wyy' 'ugn' 'c' 'nbq' 'fio' 'aj' 'tcy' 'fhdk' 'myoq'\n",
      " 'bjvrvh' 'lh' 'ekolg' 'un' 'zcd' 'fspho' 'dfzg' 'byv' 'tg' 'hma' 'ql'\n",
      " 'ck' 'pv' 'itpk' 'ruys' 'ofeeo' 'ucw' 'ysxrhq' 'ual' 'golom' 'cylj' 'uj'\n",
      " 'scmly' 'szht' 'vhftu' 'i' 'abm' 'umjwa' 'mwrp' 'xbtcyw' 'pjzeco'\n",
      " 'dutoni' 'icsj' 'hxleu' 'hqh' 'tsebe' 'mopq' 'kpyc' 'aovx' 'kwvdp' 'fdry'\n",
      " 'kjfd' 'vdcw' 'vvynq' 'qm' 'khbiv' 'xvd' 'izavv' 'rkyi' 'aol' 'jopwb'\n",
      " 'qt' 'shxo' 't' 'sed' 'qeo' 'hlf' 'lly' 'caeragd' 'ofgz' 'vm' 'mttg'\n",
      " 'aflf' 'gjza' 'jheypm' 'xzjqtge' 'nmd' 'hcjn' 'lnpsb' 'znh' 'ndug' 'mnab'\n",
      " 'pqo' 'dm' 'oa' 'nfffegg' 'cxzd' 'dtxkwb' 'zkl' 'xphhv' 'gz' 'pr' 'r'\n",
      " 'zpqx' 'fgp' 'pew' 'lg' 'zuc' 'rfcnra' 'e' 'er' 'mmzmc' 'scbi' 'xj'\n",
      " 'eaif' 'olq' 'gec' 'ru' 'tl' 'semw' 'tjczf' 'pu' 'tpo' 'wqufv' 'cyfyd'\n",
      " 'diox' 'bdgjx' 'izjrs' 'v' 'mekm' 'utx' 'btufo' 'ipph' 'wy' 'jcn' 'y'\n",
      " 'hpcwk' 'vs' 'ad' 'ldnn' 'timte' 'bq' 'qmpt' 'kyz' 'xp']\n"
     ]
    }
   ],
   "source": [
    "avr_len_word = 4\n",
    "num_words = 200\n",
    "\n",
    "V, voc_params = build_vocabulary(A, num_words, avr_len_word)\n",
    "print(np.array(V))"
   ]
  },
  {
   "cell_type": "code",
   "execution_count": 15,
   "metadata": {},
   "outputs": [
    {
     "name": "stdout",
     "output_type": "stream",
     "text": [
      "Alphabet:  {'a': 24, 'b': 24, 'c': 32, 'd': 29, 'e': 33, 'f': 29, 'g': 25, 'h': 30, 'i': 24, 'j': 29, 'k': 25, 'l': 30, 'm': 28, 'n': 24, 'o': 31, 'p': 31, 'q': 20, 'r': 25, 's': 22, 't': 36, 'u': 27, 'v': 28, 'w': 21, 'x': 27, 'y': 36, 'z': 34} \n",
      "Len_words:  {1: 10, 2: 31, 3: 52, 4: 55, 5: 39, 6: 10, 7: 3}\n"
     ]
    }
   ],
   "source": [
    "print('Alphabet: ',voc_params['Alphabet'],'\\nLen_words: ', voc_params['Len_words'])"
   ]
  },
  {
   "cell_type": "code",
   "execution_count": 16,
   "metadata": {},
   "outputs": [
    {
     "data": {
      "image/png": "[encoded data removed]",
      "text/plain": [
       "<Figure size 576x396 with 1 Axes>"
      ]
     },
     "metadata": {},
     "output_type": "display_data"
    }
   ],
   "source": [
    "plt.bar(voc_params['Len_words'].keys(), voc_params['Len_words'].values())\n",
    "plt.title('distribution of lenght word')\n",
    "plt.xticks(np.arange(1, max(voc_params['Len_words'].keys())+1, 1))\n",
    "plt.show()"
   ]
  },
  {
   "cell_type": "code",
   "execution_count": 17,
   "metadata": {},
   "outputs": [
    {
     "data": {
      "image/png": "[encoded data removed]",
      "text/plain": [
       "<Figure size 576x396 with 1 Axes>"
      ]
     },
     "metadata": {},
     "output_type": "display_data"
    }
   ],
   "source": [
    "plt.bar(voc_params['Alphabet'].keys(), voc_params['Alphabet'].values())\n",
    "plt.title('distribution of letters in vocabulary')\n",
    "# plt.xticks(np.arange(1, max(voc_params['Len_words'].keys())+1, 1))\n",
    "plt.show()"
   ]
  },
  {
   "cell_type": "markdown",
   "metadata": {},
   "source": [
    "## Building random text"
   ]
  },
  {
   "cell_type": "code",
   "execution_count": 18,
   "metadata": {},
   "outputs": [],
   "source": [
    "text_len = 250\n",
    "T = [random.choice(V) for _ in range(text_len)]\n",
    "pps = np.unique(T, return_counts=True)\n",
    "words_frequency = {pps[0][i]:pps[1][i] for i in range(len(pps[0]))}\n",
    "del(pps)"
   ]
  },
  {
   "cell_type": "code",
   "execution_count": 19,
   "metadata": {},
   "outputs": [
    {
     "data": {
      "image/png": "[encoded data removed]",
      "text/plain": [
       "<Figure size 576x396 with 1 Axes>"
      ]
     },
     "metadata": {},
     "output_type": "display_data"
    }
   ],
   "source": [
    "plt.bar(np.arange(0, len(words_frequency.keys()),1), words_frequency.values())\n",
    "plt.title('words frequency in text')\n",
    "# plt.xticks(np.arange(1, max(voc_params['Len_words'].keys())+1, 1))\n",
    "plt.show()"
   ]
  },
  {
   "cell_type": "code",
   "execution_count": 20,
   "metadata": {},
   "outputs": [],
   "source": [
    "def longest_substring(text):\n",
    "    # last index of every character\n",
    "    last_idx = {}\n",
    "    max_len = 0\n",
    " \n",
    "    # starting index of current \n",
    "    # window to calculate max_len\n",
    "    start_idx = 0\n",
    " \n",
    "    for i in range(0, len(string)):\n",
    "       \n",
    "        # Find the last index of str[i]\n",
    "        # Update start_idx (starting index of current window)\n",
    "        # as maximum of current value of start_idx and last\n",
    "        # index plus 1\n",
    "        if string[i] in last_idx:\n",
    "            start_idx = max(start_idx, last_idx[string[i]] + 1)\n",
    " \n",
    "        # Update result if we get a larger window\n",
    "        max_len = max(max_len, i-start_idx + 1)\n",
    " \n",
    "        # Update last index of current char.\n",
    "        last_idx[string[i]] = i\n",
    " \n",
    "    return max_len\n",
    "\n",
    "def max_shortest_substring(text, i):\n",
    "    max_len = 0\n",
    "    start = 0\n",
    "    exist = 1\n",
    "    lenght = 0\n",
    "    text_len = len(text)\n",
    "    while True:\n",
    "        while exist and (i + start + lenght) <= text_len:\n",
    "            lenght += 1\n",
    "            exist_old = exist\n",
    "            exist = re.search(text[i + start: i + start + lenght], text[:i])\n",
    "        if max_len < lenght and exist is None:\n",
    "            max_len = lenght\n",
    "#             print(text[exist_old.start():exist_old.end()])\n",
    "        lenght = 0\n",
    "        start += 1\n",
    "        exist = 1\n",
    "        if text_len - (i + start) < max_len:\n",
    "            return max_len\n",
    "            \n",
    "\n",
    "def Relative_entropy(text):\n",
    "    summ = 0\n",
    "    text = ''.join(text).translate({ord(i): None for i in '“”<>,][.;:!?)/−(\" '+\"'\"})\n",
    "    print('00.00%', end='')\n",
    "    for i in np.arange(0, len(text), 1):\n",
    "        \n",
    "        l = max_shortest_substring(text, i)  # max length of the shortest substring from position i onward that has not appeared before \n",
    "        summ += ( l / np.log2(i+1+1) )  # \"i+1+1\" in formula cicle from 1, we go from 0\n",
    "        print('\\r{:2.2f}%   char possition = {}'.format((i+1)/len(text)*100, i), end='')\n",
    "\n",
    "    return pow(summ, -1)\n",
    "        \n",
    "def probability_char(text):\n",
    "    text = ''.join(text).translate({ord(i): None for i in '“”<>,][.;:!?)/−(\" '+\"'\"})\n",
    "    char_counts = {}\n",
    "    char_prob = {}\n",
    "    for i in range(len(text)):\n",
    "        if text[i] in char_counts:\n",
    "            char_counts[text[i]] += 1\n",
    "        else:\n",
    "            char_counts[text[i]] = 1\n",
    "    char_prob = {x:char_counts[x]/len(text) for x in char_counts}\n",
    "    return char_prob, char_counts\n",
    "\n",
    "def calc_probability_word(word, dict_prob):\n",
    "    summ = 0\n",
    "    for w in word:\n",
    "        summ += dict_prob[w]\n",
    "    return summ\n",
    "\n",
    "def make_random_copy_text(text):\n",
    "    prob_char,_ = probability_char(text)\n",
    "    text = text.translate({ord(i): None for i in '“”<>,][.;:!?)/−(\"'+\"'\"}).split(' ')\n",
    "    text_c = copy.deepcopy(text)\n",
    "    \n",
    "    chars = [x for x in prob_char]\n",
    "    \n",
    "    prob_dev = 0.1\n",
    "    for i in range(len(text)):\n",
    "        word_prob = calc_probability_word(text[i], prob_char)\n",
    "        new_word_prob = 0\n",
    "        \n",
    "        while new_word_prob < word_prob*(1-prob_dev) or new_word_prob > word_prob*(1 + prob_dev):\n",
    "            new_word = ''\n",
    "            new_word_prob = 0\n",
    "            for l in range(len(text[i])):\n",
    "                new_char = random.choice(chars)\n",
    "                new_word += new_char\n",
    "                new_word_prob += prob_char[new_char]\n",
    "                \n",
    "        text_c[i] = new_word\n",
    "    return text_c\n",
    "            "
   ]
  },
  {
   "cell_type": "code",
   "execution_count": 21,
   "metadata": {},
   "outputs": [],
   "source": [
    "text = '''Let us consider a whole symbolic sequence of length n as , where i denotes any position inside the sequence. \n",
    "        For every position i, there is a length, l_i, corresponding to the shortest contiguous subsequence that starts at position i, \n",
    "        and does not appear in any continuous subsequence starting anywhere'''"
   ]
  },
  {
   "cell_type": "code",
   "execution_count": 22,
   "metadata": {},
   "outputs": [
    {
     "name": "stdout",
     "output_type": "stream",
     "text": [
      "00.00%\r",
      "0.40%   char possition = 0\r",
      "0.80%   char possition = 1\r",
      "1.20%   char possition = 2\r",
      "1.61%   char possition = 3\r",
      "2.01%   char possition = 4\r",
      "2.41%   char possition = 5\r",
      "2.81%   char possition = 6\r",
      "3.21%   char possition = 7\r",
      "3.61%   char possition = 8\r",
      "4.02%   char possition = 9\r",
      "4.42%   char possition = 10\r",
      "4.82%   char possition = 11\r",
      "5.22%   char possition = 12\r",
      "5.62%   char possition = 13\r",
      "6.02%   char possition = 14\r",
      "6.43%   char possition = 15\r",
      "6.83%   char possition = 16\r",
      "7.23%   char possition = 17\r",
      "7.63%   char possition = 18\r",
      "8.03%   char possition = 19\r",
      "8.43%   char possition = 20\r",
      "8.84%   char possition = 21\r",
      "9.24%   char possition = 22\r",
      "9.64%   char possition = 23\r",
      "10.04%   char possition = 24\r",
      "10.44%   char possition = 25\r",
      "10.84%   char possition = 26\r",
      "11.24%   char possition = 27\r",
      "11.65%   char possition = 28\r",
      "12.05%   char possition = 29\r",
      "12.45%   char possition = 30\r",
      "12.85%   char possition = 31\r",
      "13.25%   char possition = 32\r",
      "13.65%   char possition = 33\r",
      "14.06%   char possition = 34\r",
      "14.46%   char possition = 35\r",
      "14.86%   char possition = 36\r",
      "15.26%   char possition = 37\r",
      "15.66%   char possition = 38\r",
      "16.06%   char possition = 39\r",
      "16.47%   char possition = 40\r",
      "16.87%   char possition = 41\r",
      "17.27%   char possition = 42\r",
      "17.67%   char possition = 43\r",
      "18.07%   char possition = 44\r",
      "18.47%   char possition = 45\r",
      "18.88%   char possition = 46\r",
      "19.28%   char possition = 47\r",
      "19.68%   char possition = 48\r",
      "20.08%   char possition = 49\r",
      "20.48%   char possition = 50\r",
      "20.88%   char possition = 51\r",
      "21.29%   char possition = 52\r",
      "21.69%   char possition = 53\r",
      "22.09%   char possition = 54\r",
      "22.49%   char possition = 55\r",
      "22.89%   char possition = 56\r",
      "23.29%   char possition = 57\r",
      "23.69%   char possition = 58\r",
      "24.10%   char possition = 59\r",
      "24.50%   char possition = 60\r",
      "24.90%   char possition = 61\r",
      "25.30%   char possition = 62\r",
      "25.70%   char possition = 63\r",
      "26.10%   char possition = 64\r",
      "26.51%   char possition = 65\r",
      "26.91%   char possition = 66\r",
      "27.31%   char possition = 67\r",
      "27.71%   char possition = 68\r",
      "28.11%   char possition = 69\r",
      "28.51%   char possition = 70\r",
      "28.92%   char possition = 71\r",
      "29.32%   char possition = 72\r",
      "29.72%   char possition = 73\r",
      "30.12%   char possition = 74\r",
      "30.52%   char possition = 75\r",
      "30.92%   char possition = 76\r",
      "31.33%   char possition = 77\r",
      "31.73%   char possition = 78\r",
      "32.13%   char possition = 79\r",
      "32.53%   char possition = 80\r",
      "32.93%   char possition = 81\r",
      "33.33%   char possition = 82\r",
      "33.73%   char possition = 83\r",
      "34.14%   char possition = 84\r",
      "34.54%   char possition = 85\r",
      "34.94%   char possition = 86\r",
      "35.34%   char possition = 87\r",
      "35.74%   char possition = 88\r",
      "36.14%   char possition = 89\r",
      "36.55%   char possition = 90\r",
      "36.95%   char possition = 91\r",
      "37.35%   char possition = 92\r",
      "37.75%   char possition = 93\r",
      "38.15%   char possition = 94\r",
      "38.55%   char possition = 95\r",
      "38.96%   char possition = 96\r",
      "39.36%   char possition = 97\r",
      "39.76%   char possition = 98\r",
      "40.16%   char possition = 99\r",
      "40.56%   char possition = 100\r",
      "40.96%   char possition = 101\r",
      "41.37%   char possition = 102\r",
      "41.77%   char possition = 103\r",
      "42.17%   char possition = 104\r",
      "42.57%   char possition = 105\r",
      "42.97%   char possition = 106\r",
      "43.37%   char possition = 107\r",
      "43.78%   char possition = 108\r",
      "44.18%   char possition = 109\r",
      "44.58%   char possition = 110\r",
      "44.98%   char possition = 111\r",
      "45.38%   char possition = 112\r",
      "45.78%   char possition = 113\r",
      "46.18%   char possition = 114\r",
      "46.59%   char possition = 115\r",
      "46.99%   char possition = 116\r",
      "47.39%   char possition = 117\r",
      "47.79%   char possition = 118\r",
      "48.19%   char possition = 119\r",
      "48.59%   char possition = 120\r",
      "49.00%   char possition = 121\r",
      "49.40%   char possition = 122\r",
      "49.80%   char possition = 123\r",
      "50.20%   char possition = 124\r",
      "50.60%   char possition = 125\r",
      "51.00%   char possition = 126\r",
      "51.41%   char possition = 127\r",
      "51.81%   char possition = 128\r",
      "52.21%   char possition = 129\r",
      "52.61%   char possition = 130\r",
      "53.01%   char possition = 131\r",
      "53.41%   char possition = 132\r",
      "53.82%   char possition = 133\r",
      "54.22%   char possition = 134\r",
      "54.62%   char possition = 135\r",
      "55.02%   char possition = 136\r",
      "55.42%   char possition = 137\r",
      "55.82%   char possition = 138\r",
      "56.22%   char possition = 139\r",
      "56.63%   char possition = 140\r",
      "57.03%   char possition = 141\r",
      "57.43%   char possition = 142\r",
      "57.83%   char possition = 143\r",
      "58.23%   char possition = 144\r",
      "58.63%   char possition = 145\r",
      "59.04%   char possition = 146\r",
      "59.44%   char possition = 147\r",
      "59.84%   char possition = 148\r",
      "60.24%   char possition = 149\r",
      "60.64%   char possition = 150\r",
      "61.04%   char possition = 151\r",
      "61.45%   char possition = 152\r",
      "61.85%   char possition = 153\r",
      "62.25%   char possition = 154\r",
      "62.65%   char possition = 155\r",
      "63.05%   char possition = 156\r",
      "63.45%   char possition = 157\r",
      "63.86%   char possition = 158\r",
      "64.26%   char possition = 159\r",
      "64.66%   char possition = 160\r",
      "65.06%   char possition = 161\r",
      "65.46%   char possition = 162\r",
      "65.86%   char possition = 163\r",
      "66.27%   char possition = 164\r",
      "66.67%   char possition = 165\r",
      "67.07%   char possition = 166\r",
      "67.47%   char possition = 167\r",
      "67.87%   char possition = 168\r",
      "68.27%   char possition = 169\r",
      "68.67%   char possition = 170\r",
      "69.08%   char possition = 171\r",
      "69.48%   char possition = 172\r",
      "69.88%   char possition = 173\r",
      "70.28%   char possition = 174\r",
      "70.68%   char possition = 175\r",
      "71.08%   char possition = 176\r",
      "71.49%   char possition = 177\r",
      "71.89%   char possition = 178\r",
      "72.29%   char possition = 179\r",
      "72.69%   char possition = 180\r",
      "73.09%   char possition = 181\r",
      "73.49%   char possition = 182\r",
      "73.90%   char possition = 183\r",
      "74.30%   char possition = 184\r",
      "74.70%   char possition = 185\r",
      "75.10%   char possition = 186\r",
      "75.50%   char possition = 187\r",
      "75.90%   char possition = 188\r",
      "76.31%   char possition = 189\r",
      "76.71%   char possition = 190\r",
      "77.11%   char possition = 191\r",
      "77.51%   char possition = 192\r",
      "77.91%   char possition = 193\r",
      "78.31%   char possition = 194\r",
      "78.71%   char possition = 195\r",
      "79.12%   char possition = 196\r",
      "79.52%   char possition = 197\r",
      "79.92%   char possition = 198\r",
      "80.32%   char possition = 199\r",
      "80.72%   char possition = 200\r",
      "81.12%   char possition = 201\r",
      "81.53%   char possition = 202\r",
      "81.93%   char possition = 203\r",
      "82.33%   char possition = 204\r",
      "82.73%   char possition = 205\r",
      "83.13%   char possition = 206\r",
      "83.53%   char possition = 207\r",
      "83.94%   char possition = 208\r",
      "84.34%   char possition = 209\r",
      "84.74%   char possition = 210\r",
      "85.14%   char possition = 211\r",
      "85.54%   char possition = 212\r",
      "85.94%   char possition = 213\r",
      "86.35%   char possition = 214\r",
      "86.75%   char possition = 215\r",
      "87.15%   char possition = 216\r",
      "87.55%   char possition = 217\r",
      "87.95%   char possition = 218\r",
      "88.35%   char possition = 219\r",
      "88.76%   char possition = 220\r",
      "89.16%   char possition = 221\r",
      "89.56%   char possition = 222\r",
      "89.96%   char possition = 223\r",
      "90.36%   char possition = 224\r",
      "90.76%   char possition = 225\r",
      "91.16%   char possition = 226\r",
      "91.57%   char possition = 227\r",
      "91.97%   char possition = 228\r",
      "92.37%   char possition = 229\r",
      "92.77%   char possition = 230\r",
      "93.17%   char possition = 231\r",
      "93.57%   char possition = 232\r",
      "93.98%   char possition = 233\r",
      "94.38%   char possition = 234\r",
      "94.78%   char possition = 235\r",
      "95.18%   char possition = 236\r",
      "95.58%   char possition = 237\r",
      "95.98%   char possition = 238\r",
      "96.39%   char possition = 239\r",
      "96.79%   char possition = 240\r",
      "97.19%   char possition = 241\r",
      "97.59%   char possition = 242\r",
      "97.99%   char possition = 243\r",
      "98.39%   char possition = 244\r",
      "98.80%   char possition = 245\r",
      "99.20%   char possition = 246\r",
      "99.60%   char possition = 247\r",
      "100.00%   char possition = 248"
     ]
    },
    {
     "data": {
      "text/plain": [
       "0.0026561961925050926"
      ]
     },
     "execution_count": 22,
     "metadata": {},
     "output_type": "execute_result"
    }
   ],
   "source": [
    "RE = Relative_entropy(text)\n",
    "RE"
   ]
  },
  {
   "cell_type": "code",
   "execution_count": 23,
   "metadata": {},
   "outputs": [
    {
     "name": "stdout",
     "output_type": "stream",
     "text": [
      "100.00%   char possition = 264"
     ]
    },
    {
     "data": {
      "text/plain": [
       "0.004206898935339619"
      ]
     },
     "execution_count": 23,
     "metadata": {},
     "output_type": "execute_result"
    }
   ],
   "source": [
    "RE_masked = Relative_entropy(make_random_copy_text(text))\n",
    "RE_masked"
   ]
  },
  {
   "cell_type": "code",
   "execution_count": 24,
   "metadata": {},
   "outputs": [
    {
     "data": {
      "text/plain": [
       "0.0015507027428345263"
      ]
     },
     "execution_count": 24,
     "metadata": {},
     "output_type": "execute_result"
    }
   ],
   "source": [
    "D = RE_masked - RE\n",
    "D"
   ]
  },
  {
   "cell_type": "markdown",
   "metadata": {},
   "source": [
    "# 3. TTR - Type/Token ratios"
   ]
  },
  {
   "cell_type": "markdown",
   "metadata": {},
   "source": [
    "> C_TTR = V / ( summ(fr_i) )\n",
    "\n",
    "V - number of all types of words(tokens)  \n",
    "fr - frequency of i type"
   ]
  },
  {
   "cell_type": "code",
   "execution_count": 30,
   "metadata": {},
   "outputs": [
    {
     "name": "stdout",
     "output_type": "stream",
     "text": [
      "['God', 'is', 'Great', '!', 'I', 'won', 'a', 'lottery', '.', 'and', 'want', 'to', 'win', 'more', ',', 'wanted']\n"
     ]
    }
   ],
   "source": [
    "from nltk.tokenize import word_tokenize\n",
    "text = \"God is Great! I won a lottery. and want to win more, wanted\"\n",
    "print(word_tokenize(text))"
   ]
  },
  {
   "cell_type": "code",
   "execution_count": 45,
   "metadata": {},
   "outputs": [],
   "source": [
    "def TTR(text):\n",
    "    text = text.translate({ord(i): None for i in '“”<>,][.;:!?)/−(\"'+\"'\"}).split(' ')\n",
    "    pps = np.unique(text, return_counts=True)\n",
    "    return len(pps[0])/sum(pps[1])\n",
    "    "
   ]
  },
  {
   "cell_type": "code",
   "execution_count": 49,
   "metadata": {},
   "outputs": [
    {
     "data": {
      "text/plain": [
       "0.584"
      ]
     },
     "execution_count": 49,
     "metadata": {},
     "output_type": "execute_result"
    }
   ],
   "source": [
    "TTR(' '.join(T))"
   ]
  },
  {
   "cell_type": "markdown",
   "metadata": {},
   "source": [
    "# 4. MATTR: TTR + window"
   ]
  },
  {
   "cell_type": "code",
   "execution_count": 58,
   "metadata": {},
   "outputs": [],
   "source": [
    "def MATTR(text, window):\n",
    "    pos = 0\n",
    "    result = 0\n",
    "    while pos + window <= len(text):\n",
    "        result += TTR(text[pos: pos+window])\n",
    "        pos += 1\n",
    "    return result/pos"
   ]
  },
  {
   "cell_type": "code",
   "execution_count": 59,
   "metadata": {},
   "outputs": [
    {
     "data": {
      "text/plain": [
       "0.7948323298559323"
      ]
     },
     "execution_count": 59,
     "metadata": {},
     "output_type": "execute_result"
    }
   ],
   "source": [
    "MATTR(' '.join(T), 500)"
   ]
  }
 ],
 "metadata": {
  "kernelspec": {
   "display_name": "Python 3",
   "language": "python",
   "name": "python3"
  },
  "language_info": {
   "codemirror_mode": {
    "name": "ipython",
    "version": 3
   },
   "file_extension": ".py",
   "mimetype": "text/x-python",
   "name": "python",
   "nbconvert_exporter": "python",
   "pygments_lexer": "ipython3",
   "version": "3.8.5"
  }
 },
 "nbformat": 4,
 "nbformat_minor": 4
}
