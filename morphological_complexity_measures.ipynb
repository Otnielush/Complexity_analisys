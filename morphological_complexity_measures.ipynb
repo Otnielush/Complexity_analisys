{
 "cells": [
  {
   "cell_type": "code",
   "execution_count": 1,
   "metadata": {},
   "outputs": [],
   "source": [
    "import numpy as np\n",
    "import matplotlib.pyplot as plt\n",
    "plt.style.use('seaborn')\n",
    "import random\n",
    "import re\n",
    "import copy\n",
    "import pandas as pd"
   ]
  },
  {
   "cell_type": "markdown",
   "metadata": {},
   "source": [
    "# Targets:  \n",
    "1. Word entropy  \n",
    "2. Relative entropy of word structure  \n",
    "3. TTR  \n",
    "4. MTTR -זה לא קיים במאמר אבל הוא קיים, סוג של ממוצע נע של TTR"
   ]
  },
  {
   "cell_type": "markdown",
   "metadata": {},
   "source": [
    "## 1. Word entrophy:  \n",
    "чем больше спектр типов слов(спряжений и тп) тем больше информации упаковывается в слово нежели в словосочетание или предложение.  \n",
    "T - text  \n",
    "V - vocabulary of word types {w1,w2,w3,w4,..,wVV}\n",
    "VV = |V|  \n",
    "p(w) = Pr(T=w) for w in V   - probability of word type  \n",
    "\n",
    "> #### The average information content of word types  \n",
    "> H(T) = - sum( p(w_i) * log2(p(w_i)) ) from i=1 to VV\n"
   ]
  },
  {
   "cell_type": "markdown",
   "metadata": {},
   "source": [
    "### James-Stein shrinkage estimator\n",
    "> ~p(w_i)(shrink) = alpha * ~p(w_i)(target) + (1 - alpha) * ~p(w_i)(ML)  \n",
    "\n",
    "\\~p(w_i)(ML) - denotes the word probability according to the maximum likelihood account **max(~p(w))**   \n",
    "alpha in [0,1] -  “shrinkage intensity”  \n",
    "~p(w_i)(target) - “shrinkage target”  \n",
    "\n",
    "maximum entropy case of a uniform = p(w_i) = 1 / V"
   ]
  },
  {
   "cell_type": "code",
   "execution_count": 2,
   "metadata": {},
   "outputs": [],
   "source": [
    "V = np.arange(0, 16, 1)  # types of word\n",
    "T = [random.choice(V) for _ in range(100)]  # text with differend type of words"
   ]
  },
  {
   "cell_type": "code",
   "execution_count": 3,
   "metadata": {},
   "outputs": [],
   "source": [
    "p = {x[0]:x[1]/len(T)   for x in np.transpose(np.unique(T, return_counts=True))} # probability of word type"
   ]
  },
  {
   "cell_type": "code",
   "execution_count": 4,
   "metadata": {},
   "outputs": [
    {
     "name": "stdout",
     "output_type": "stream",
     "text": [
      "{0: 0.03, 1: 0.08, 2: 0.07, 3: 0.04, 4: 0.02, 5: 0.06, 6: 0.07, 7: 0.05, 8: 0.02, 9: 0.08, 10: 0.05, 11: 0.11, 12: 0.05, 13: 0.09, 14: 0.08, 15: 0.1}\n",
      "sum 1.0\n"
     ]
    }
   ],
   "source": [
    "ss = 0\n",
    "for x in p:\n",
    "    ss += p[x]\n",
    "print(p) # all elements\n",
    "print('sum', round(ss, 5)) # summ of all probabilities"
   ]
  },
  {
   "cell_type": "markdown",
   "metadata": {},
   "source": [
    "#### James-Stein shrinkage estimator"
   ]
  },
  {
   "cell_type": "code",
   "execution_count": 5,
   "metadata": {},
   "outputs": [],
   "source": [
    "alpha = 0.7\n",
    "max_prob = p[max(p, key=p.get)] # maximum probability from our text\n",
    "alpha_func = lambda x: round(alpha*x + (1-alpha)*max_prob, 5)\n",
    "\n",
    "p_JS = {x:alpha_func(p[x]) for x in p}"
   ]
  },
  {
   "cell_type": "code",
   "execution_count": 6,
   "metadata": {},
   "outputs": [
    {
     "name": "stdout",
     "output_type": "stream",
     "text": [
      "{0: 0.054, 1: 0.089, 2: 0.082, 3: 0.061, 4: 0.047, 5: 0.075, 6: 0.082, 7: 0.068, 8: 0.047, 9: 0.089, 10: 0.068, 11: 0.11, 12: 0.068, 13: 0.096, 14: 0.089, 15: 0.103}\n",
      "sum 1.228\n"
     ]
    }
   ],
   "source": [
    "print(p_JS)\n",
    "print('sum', sum([p_JS[x] for x in p_JS]))"
   ]
  },
  {
   "cell_type": "markdown",
   "metadata": {},
   "source": [
    "### Average information content"
   ]
  },
  {
   "cell_type": "code",
   "execution_count": 7,
   "metadata": {},
   "outputs": [],
   "source": [
    "def Word_entrophy(prob_dict):\n",
    "    return round(-sum( prob_dict[word] * np.log2((prob_dict[word])) for word in prob_dict ), 5)"
   ]
  },
  {
   "cell_type": "code",
   "execution_count": 8,
   "metadata": {},
   "outputs": [
    {
     "name": "stdout",
     "output_type": "stream",
     "text": [
      "WE: 3.86187 \n",
      "WE JS: 4.49583 \n",
      "random text std: 4.7359\n",
      "max probability: 0.11 \n",
      "min probability: 0.02\n"
     ]
    }
   ],
   "source": [
    "we_random_text = Word_entrophy(p)\n",
    "weJS_random_text = Word_entrophy(p_JS)\n",
    "print('WE:', we_random_text, '\\nWE JS:', weJS_random_text,'\\nrandom text std:', round(np.std(T), 4))\n",
    "print('max probability:', max_prob, '\\nmin probability:', p[min(p, key=p.get)])"
   ]
  },
  {
   "cell_type": "code",
   "execution_count": 9,
   "metadata": {},
   "outputs": [
    {
     "data": {
      "image/png": "[encoded data removed]",
      "text/plain": [
       "<Figure size 576x396 with 1 Axes>"
      ]
     },
     "metadata": {},
     "output_type": "display_data"
    }
   ],
   "source": [
    "we_func = [-x*np.log2(x+0.00000000001) for x in np.arange(0, 1, 0.01)]\n",
    "line = np.arange(0,1,0.01)\n",
    "plt.plot( line, we_func)\n",
    "plt.plot(line, line, 'r--')\n",
    "# plt.plot(line,  aic_func - line, '.')\n",
    "plt.show()"
   ]
  },
  {
   "cell_type": "markdown",
   "metadata": {},
   "source": [
    ">### if all probabilities the same?"
   ]
  },
  {
   "cell_type": "code",
   "execution_count": 10,
   "metadata": {},
   "outputs": [
    {
     "name": "stdout",
     "output_type": "stream",
     "text": [
      "{1: 0.0667, 2: 0.0667, 3: 0.0667, 4: 0.0667, 5: 0.0667, 6: 0.0667, 7: 0.0667, 8: 0.0667, 9: 0.0667, 10: 0.0667, 11: 0.0667, 12: 0.0667, 13: 0.0667, 14: 0.0667, 15: 0.0667}\n",
      "sum prob: 1.0005\n",
      "WE test: 3.90812 \n",
      "probability of 1 element = 0.0667\n"
     ]
    }
   ],
   "source": [
    "VV = 15\n",
    "p_test = {x:round(1/VV, 4) for x in np.arange(1, VV+1, 1)}\n",
    "print(p_test)\n",
    "print('sum prob:', sum([p_test[x] for x in p_test]))\n",
    "aic_test = Word_entrophy(p_test)\n",
    "print('WE test:', aic_test, '\\nprobability of 1 element =', p_test[1])"
   ]
  },
  {
   "cell_type": "markdown",
   "metadata": {},
   "source": [
    "> ### half rare half often"
   ]
  },
  {
   "cell_type": "code",
   "execution_count": 11,
   "metadata": {},
   "outputs": [
    {
     "name": "stdout",
     "output_type": "stream",
     "text": [
      "{1: 0.1333, 2: 0.1333, 3: 0.1333, 4: 0.1333, 5: 0.1333, 6: 0.1333, 7: 0.1333, 8: 0.1333, 9: 0.0001, 10: 0.0001, 11: 0.0001, 12: 0.0001, 13: 0.0001, 14: 0.0001, 15: 0.0001}\n",
      "sum prob: 1.0671\n",
      "WE test: 3.10959 \n",
      "max probability: 0.1333 \n",
      "min probability: 0.0001\n"
     ]
    }
   ],
   "source": [
    "VV = 15\n",
    "ttt = np.ones((VV)) / VV * 2  # probabilities\n",
    "ttt[int(np.ceil(VV/2)):] = 0.0001\n",
    "p_test2 = {x:round(y,4) for x,y in zip(np.arange(1, VV+1, 1), ttt)}\n",
    "print(p_test2)\n",
    "print('sum prob:', round(sum([p_test2[x] for x in p_test2]), 4))\n",
    "we_test2 = Word_entrophy(p_test2)\n",
    "print('WE test:', we_test2, '\\nmax probability:', p_test2[1], '\\nmin probability:', p_test2[VV])"
   ]
  },
  {
   "cell_type": "markdown",
   "metadata": {},
   "source": [
    "# 2.Relative entropy of word structure"
   ]
  },
  {
   "cell_type": "markdown",
   "metadata": {},
   "source": [
    "T - text drawn from alphabet A  \n",
    "A = {c1,c2,c3,..cAA} - alphabet  \n",
    "> ~H(T) = [ sum( l_i / log2(i+1) ) / n ]^-1 for i {1:n}\n",
    "\n",
    "n - number of characters in text (T)  \n",
    "l_i - is the length of the longest substring from position i onward that has not appeared before  \n",
    "> ~D = ~H(T_masked) - ~H(T_orig)\n",
    "\n",
    "T_masked - token of the same length but with characters randomly drawn with equal probability from the alphabet A"
   ]
  },
  {
   "cell_type": "markdown",
   "metadata": {},
   "source": [
    "#### Universal Entropy of Word Ordering Across Linguistic Families  \n",
    "https://journals.plos.org/plosone/article?id=10.1371/journal.pone.0019875\n",
    "\n",
    "Let us consider a whole symbolic sequence of length n as , where i denotes any position inside the sequence. For every position i, there is a length, l_i, corresponding to the **~shortest~** contiguous subsequence that starts at position i, and does not appear in any continuous subsequence starting anywhere between position 1 and . For instance, consider the following alphabetical sequence: CDABCDEABCZ; at position 8, the shortest mismatch is l8 = 4. After parsing the whole sequence, the resulting series  will contain information about the redundancy in it"
   ]
  },
  {
   "cell_type": "markdown",
   "metadata": {},
   "source": [
    "## Building random alphabet"
   ]
  },
  {
   "cell_type": "code",
   "execution_count": 12,
   "metadata": {},
   "outputs": [
    {
     "data": {
      "text/plain": [
       "'a,b,c,d,e,f,g,h,i,j,k,l,m,n,o,p,q,r,s,t,u,v,w,x,y,z'"
      ]
     },
     "execution_count": 12,
     "metadata": {},
     "output_type": "execute_result"
    }
   ],
   "source": [
    "A = [chr(x) for x in np.arange(97, 97+26, 1)] # Alphabet\n",
    "','.join(A)"
   ]
  },
  {
   "cell_type": "code",
   "execution_count": 13,
   "metadata": {},
   "outputs": [],
   "source": [
    "def build_vocabulary(Alphabet, size, avr_len_word):\n",
    "    Voc = []\n",
    "    params = {'Alphabet':{x:0 for x in Alphabet}, 'Len_words': {}}\n",
    "    while len(Voc) < size:\n",
    "        len_word = max(int(random.normalvariate(avr_len_word, avr_len_word/3)), 1)\n",
    "        new_word = ''.join(random.choice(A) for i in range(len_word))\n",
    "        if new_word not in Voc:\n",
    "            Voc.append(new_word)\n",
    "            if len_word in params['Len_words']:\n",
    "                params['Len_words'][len_word] += 1\n",
    "            else:\n",
    "                params['Len_words'][len_word] = 1\n",
    "            for w in new_word:\n",
    "                params['Alphabet'][w] += 1\n",
    "    params['Len_words'] = dict(sorted(params['Len_words'].items()))\n",
    "            \n",
    "    return Voc, params"
   ]
  },
  {
   "cell_type": "markdown",
   "metadata": {},
   "source": [
    "## Building random vocabulary"
   ]
  },
  {
   "cell_type": "code",
   "execution_count": 14,
   "metadata": {},
   "outputs": [
    {
     "name": "stdout",
     "output_type": "stream",
     "text": [
      "['yqnv' 'lksox' 'cr' 'on' 'hitc' 'yjeekg' 'xni' 'sfd' 'tmf' 'xoou'\n",
      " 'vzwunp' 'kxer' 's' 'tempm' 'szpdy' 'adx' 'kej' 'bzkezg' 'lcspst' 'pox'\n",
      " 'syt' 'dmig' 'unnzq' 'ig' 'ktvll' 'xgxs' 'sp' 'xknf' 'olo' 'hi' 'hyf'\n",
      " 'hyk' 'zv' 'lmhg' 'dnbo' 'jzry' 'dzw' 'bi' 'y' 'mong' 'deyj' 'fmw'\n",
      " 'jjegh' 'vjvph' 'pa' 'lzyr' 'tn' 'al' 'ywf' 'so' 'jiy' 'ltw' 'cyirz'\n",
      " 'iya' 'u' 'vbav' 'ileqcu' 'ih' 'pggh' 'enmza' 'aba' 'ne' 'uox' 'ovcb'\n",
      " 'yt' 'lwqc' 'oll' 'cwki' 'beoo' 'oyuknt' 'kxkt' 'udholo' 'xo' 'zvo'\n",
      " 'igdvaf' 'vrb' 'tfit' 'muw' 'ozka' 'uekedz' 'i' 'wuf' 'if' 'rpbbu' 'kak'\n",
      " 'q' 'ojlx' 'wvh' 'zfhj' 'rz' 'ngtwq' 'fzz' 'yujr' 'jefry' 'gokc' 'cwzc'\n",
      " 'ntf' 'yne' 'wah' 'dxef' 'tqgz' 'fu' 'jq' 'iezf' 'pvd' 'pukc' 'vdx' 'kbb'\n",
      " 'bqkl' 'bsmwdrn' 'nxohb' 'fcu' 'bhr' 'ojk' 'jp' 'z' 'eluv' 'why' 'bnjbm'\n",
      " 'onv' 'fl' 'kug' 'yzuxjn' 'h' 'juds' 'jmyt' 'mqvu' 'rsmyp' 'ytzxx'\n",
      " 'wdxoo' 'xml' 'rzse' 'di' 'mubf' 'jdeo' 'htrxmmi' 'j' 'mq' 'cqvhr' 'hcfn'\n",
      " 'ijm' 'fhqv' 'c' 'qlzsl' 'bmu' 'xafmk' 'gaj' 'ao' 'iulj' 'qtbqxc' 'oov'\n",
      " 'pjbi' 'jiga' 'lr' 'mvq' 'sjqdo' 'hbcyy' 'sac' 'sjby' 'lvhddb' 'vhtbpg'\n",
      " 'qnvpm' 'gaxb' 'ijwv' 'vldp' 'tzcxx' 'eos' 'mxiwc' 'fkas' 'txxx' 'jz'\n",
      " 'jzn' 'a' 'fcw' 'fxoc' 'vhf' 'ohy' 'xztgr' 'sot' 'btlmj' 'qgv' 'jl' 'mp'\n",
      " 'zctuc' 'emc' 'mf' 'ixa' 'sau' 'zzwlf' 'ihu' 'vxqp' 'seq' 'kp' 'qq'\n",
      " 'xfelt' 'nzb' 'ewzff' 'tvth' 'pgth' 'xyu']\n"
     ]
    }
   ],
   "source": [
    "avr_len_word = 4\n",
    "num_words = 200\n",
    "\n",
    "V, voc_params = build_vocabulary(A, num_words, avr_len_word)\n",
    "print(np.array(V))"
   ]
  },
  {
   "cell_type": "code",
   "execution_count": 15,
   "metadata": {},
   "outputs": [
    {
     "name": "stdout",
     "output_type": "stream",
     "text": [
      "Alphabet:  {'a': 22, 'b': 29, 'c': 26, 'd': 22, 'e': 26, 'f': 32, 'g': 22, 'h': 29, 'i': 27, 'j': 33, 'k': 25, 'l': 29, 'm': 29, 'n': 25, 'o': 37, 'p': 22, 'q': 24, 'r': 18, 's': 23, 't': 31, 'u': 28, 'v': 31, 'w': 21, 'x': 37, 'y': 29, 'z': 35} \n",
      "Len_words:  {1: 10, 2: 31, 3: 59, 4: 54, 5: 31, 6: 13, 7: 2}\n"
     ]
    }
   ],
   "source": [
    "print('Alphabet: ',voc_params['Alphabet'],'\\nLen_words: ', voc_params['Len_words'])"
   ]
  },
  {
   "cell_type": "code",
   "execution_count": 16,
   "metadata": {},
   "outputs": [
    {
     "data": {
      "image/png": "[encoded data removed]",
      "text/plain": [
       "<Figure size 576x396 with 1 Axes>"
      ]
     },
     "metadata": {},
     "output_type": "display_data"
    }
   ],
   "source": [
    "plt.bar(voc_params['Len_words'].keys(), voc_params['Len_words'].values())\n",
    "plt.title('distribution of lenght word')\n",
    "plt.xticks(np.arange(1, max(voc_params['Len_words'].keys())+1, 1))\n",
    "plt.show()"
   ]
  },
  {
   "cell_type": "code",
   "execution_count": 17,
   "metadata": {},
   "outputs": [
    {
     "data": {
      "image/png": "[encoded data removed]",
      "text/plain": [
       "<Figure size 576x396 with 1 Axes>"
      ]
     },
     "metadata": {},
     "output_type": "display_data"
    }
   ],
   "source": [
    "plt.bar(voc_params['Alphabet'].keys(), voc_params['Alphabet'].values())\n",
    "plt.title('distribution of letters in vocabulary')\n",
    "# plt.xticks(np.arange(1, max(voc_params['Len_words'].keys())+1, 1))\n",
    "plt.show()"
   ]
  },
  {
   "cell_type": "markdown",
   "metadata": {},
   "source": [
    "## Building random text"
   ]
  },
  {
   "cell_type": "code",
   "execution_count": 18,
   "metadata": {},
   "outputs": [],
   "source": [
    "text_len = 250\n",
    "T = [random.choice(V) for _ in range(text_len)]\n",
    "pps = np.unique(T, return_counts=True)\n",
    "words_frequency = {pps[0][i]:pps[1][i] for i in range(len(pps[0]))}\n",
    "del(pps)"
   ]
  },
  {
   "cell_type": "code",
   "execution_count": 19,
   "metadata": {},
   "outputs": [
    {
     "data": {
      "image/png": "[encoded data removed]",
      "text/plain": [
       "<Figure size 576x396 with 1 Axes>"
      ]
     },
     "metadata": {},
     "output_type": "display_data"
    }
   ],
   "source": [
    "plt.bar(np.arange(0, len(words_frequency.keys()),1), words_frequency.values())\n",
    "plt.title('words frequency in text')\n",
    "# plt.xticks(np.arange(1, max(voc_params['Len_words'].keys())+1, 1))\n",
    "plt.show()"
   ]
  },
  {
   "cell_type": "code",
   "execution_count": 48,
   "metadata": {},
   "outputs": [],
   "source": [
    "def longestCommonPrefix(string):\n",
    "    n = len(string)\n",
    "    strs = list()\n",
    "    for i in range(n):\n",
    "        strs.append(string[i:])\n",
    "    strs = sorted(strs)\n",
    "    del(string)\n",
    "    print(strs)\n",
    "    \n",
    "    def commonPrefix(left,right):\n",
    "        min_len = min(len(left), len(right))\n",
    "        for i in range(min_len):\n",
    "            if left[i] != right[i]:\n",
    "                return left[:i]\n",
    "        return left[:min_len]\n",
    "\n",
    "    def find_longestCommonPrefix(strs, left_index, right_index):\n",
    "        if left_index == right_index:\n",
    "            return strs[left_index]\n",
    "        # recursive call\n",
    "        else:\n",
    "            mid_index = (left_index + right_index)//2\n",
    "            lcpLeft = find_longestCommonPrefix(strs,left_index, mid_index)\n",
    "            lcpRight = find_longestCommonPrefix(strs,mid_index+1,right_index)\n",
    "            return commonPrefix(lcpLeft,lcpRight)\n",
    "\n",
    "    if not strs: return \"\"\n",
    "    return find_longestCommonPrefix(strs, 0, len(strs)-1)\n"
   ]
  },
  {
   "cell_type": "code",
   "execution_count": 49,
   "metadata": {},
   "outputs": [
    {
     "name": "stdout",
     "output_type": "stream",
     "text": [
      "['!', 'A!', 'ABRA!', 'ABRACADABRA!', 'ACADABRA!', 'ADABRA!', 'BRA!', 'BRACADABRA!', 'CADABRA!', 'DABRA!', 'RA!', 'RACADABRA!']\n"
     ]
    },
    {
     "data": {
      "text/plain": [
       "''"
      ]
     },
     "execution_count": 49,
     "metadata": {},
     "output_type": "execute_result"
    }
   ],
   "source": [
    "longestCommonPrefix('ABRACADABRA!')"
   ]
  },
  {
   "cell_type": "code",
   "execution_count": null,
   "metadata": {},
   "outputs": [],
   "source": []
  },
  {
   "cell_type": "code",
   "execution_count": 28,
   "metadata": {},
   "outputs": [],
   "source": [
    "def longest_substring(text):\n",
    "    # last index of every character\n",
    "    last_idx = {}\n",
    "    max_len = 0\n",
    " \n",
    "    # starting index of current \n",
    "    # window to calculate max_len\n",
    "    start_idx = 0\n",
    " \n",
    "    for i in range(0, len(string)):\n",
    "       \n",
    "        # Find the last index of str[i]\n",
    "        # Update start_idx (starting index of current window)\n",
    "        # as maximum of current value of start_idx and last\n",
    "        # index plus 1\n",
    "        if string[i] in last_idx:\n",
    "            start_idx = max(start_idx, last_idx[string[i]] + 1)\n",
    " \n",
    "        # Update result if we get a larger window\n",
    "        max_len = max(max_len, i-start_idx + 1)\n",
    " \n",
    "        # Update last index of current char.\n",
    "        last_idx[string[i]] = i\n",
    " \n",
    "    return max_len\n",
    "\n",
    "def max_shortest_substring2(text, i):\n",
    "    \n",
    "    return max_len\n",
    "\n",
    "def max_shortest_substring(text, i):\n",
    "#     print(text)\n",
    "    max_len = 0\n",
    "    start = 0\n",
    "    exist = 1\n",
    "    lenght = 0\n",
    "    text_len = len(text)\n",
    "    while True:\n",
    "        while exist and (i + start + lenght) <= text_len:\n",
    "            lenght += 1\n",
    "            exist_old = exist\n",
    "            exist = re.search(text[i + start: i + start + lenght], text[:i])\n",
    "        if max_len < lenght and exist is None:\n",
    "            max_len = lenght\n",
    "#             try:\n",
    "#                 print(text[exist_old.start():exist_old.end()])\n",
    "#             except:\n",
    "#                 pass\n",
    "        lenght = 0\n",
    "        start += 1\n",
    "        exist = 1\n",
    "        if text_len - (i + start) < max_len:\n",
    "            return max_len\n",
    "            \n",
    "\n",
    "def Relative_entropy(text):\n",
    "    summ = 0\n",
    "    text = ''.join(text).translate({ord(i): None for i in '“”<>,][.;:!?)/−(\" '+\"'\"})\n",
    "    print('00.00%', end='')\n",
    "    for i in np.arange(1, len(text), 1):\n",
    "        \n",
    "        l = max_shortest_substring(text, i)  # max length of the shortest substring from position i onward that has not appeared before \n",
    "        summ += ( l / np.log2(i+1) )  # \"i+1+1\" in formula cicle from 1, we go from 0\n",
    "        print('\\r{:2.2f}%   char possition = {}'.format((i+1)/len(text)*100, i), end='')\n",
    "        \n",
    "    summ /= len(text_2)\n",
    "    return pow(summ, -1)\n",
    "        \n",
    "def probability_char(text):\n",
    "    text = ''.join(text).translate({ord(i): None for i in '“”<>,][.;:!?)/−(\" '+\"'\"})\n",
    "    char_counts = {}\n",
    "    char_prob = {}\n",
    "    for i in range(len(text)):\n",
    "        if text[i] in char_counts:\n",
    "            char_counts[text[i]] += 1\n",
    "        else:\n",
    "            char_counts[text[i]] = 1\n",
    "    char_prob = {x:char_counts[x]/len(text) for x in char_counts}\n",
    "    return char_prob, char_counts\n",
    "\n",
    "def calc_probability_word(word, dict_prob):\n",
    "    summ = 0\n",
    "    for w in word:\n",
    "        summ += dict_prob[w]\n",
    "    return summ\n",
    "\n",
    "def make_random_copy_text(text):\n",
    "    prob_char,_ = probability_char(text)\n",
    "    text = text.translate({ord(i): None for i in '“”<>,][.;:!?)/−(\"'+\"'\"}).split(' ')\n",
    "    text_c = copy.deepcopy(text)\n",
    "    \n",
    "    chars = [x for x in prob_char]\n",
    "    \n",
    "    prob_dev = 0.1\n",
    "    for i in range(len(text)):\n",
    "        word_prob = calc_probability_word(text[i], prob_char)\n",
    "        new_word_prob = 0\n",
    "        \n",
    "        while new_word_prob < word_prob*(1-prob_dev) or new_word_prob > word_prob*(1 + prob_dev):\n",
    "            new_word = ''\n",
    "            new_word_prob = 0\n",
    "            for l in range(len(text[i])):\n",
    "                new_char = random.choice(chars)\n",
    "                new_word += new_char\n",
    "                new_word_prob += prob_char[new_char]\n",
    "                \n",
    "        text_c[i] = new_word\n",
    "    return text_c\n",
    "            "
   ]
  },
  {
   "cell_type": "code",
   "execution_count": 14,
   "metadata": {},
   "outputs": [],
   "source": [
    "text = '''que una vez estaba mirando en el bote\n",
    "estaban durmiendo\n",
    "y se despertaron\n",
    "y se le escapó la rana\n",
    "luego el perro metió la cabeza en el frasco\n",
    "luego se cayó por la ventana\n",
    "y luego se fueron y\n",
    "luego se fueron a un avispero\n",
    "luego se metieron en el árbol en el\n",
    "se cayó\n",
    "y luego todas las avispas le fueron a picar al perro\n",
    "está ya y éste\n",
    "le coge un ciervo el perro\n",
    "y luego se quedan\n",
    "le tiran al niño a un lago\n",
    "cogen a su rana otra vez\n",
    "luego se van a casa\n",
    "'''"
   ]
  },
  {
   "cell_type": "code",
   "execution_count": 21,
   "metadata": {},
   "outputs": [
    {
     "name": "stdout",
     "output_type": "stream",
     "text": [
      "00.00%\r",
      "0.54%   char possition = 1\r",
      "0.82%   char possition = 2\r",
      "1.09%   char possition = 3\r",
      "1.36%   char possition = 4\r",
      "1.63%   char possition = 5\r",
      "1.91%   char possition = 6\r",
      "2.18%   char possition = 7\r",
      "2.45%   char possition = 8\r",
      "2.72%   char possition = 9\r",
      "3.00%   char possition = 10\r",
      "3.27%   char possition = 11\r",
      "3.54%   char possition = 12\r",
      "3.81%   char possition = 13\r",
      "4.09%   char possition = 14\r",
      "4.36%   char possition = 15\r",
      "4.63%   char possition = 16\r",
      "4.90%   char possition = 17\r",
      "5.18%   char possition = 18\r",
      "5.45%   char possition = 19\r",
      "5.72%   char possition = 20\r",
      "5.99%   char possition = 21\r",
      "6.27%   char possition = 22\r",
      "6.54%   char possition = 23\r",
      "6.81%   char possition = 24\r",
      "7.08%   char possition = 25\r",
      "7.36%   char possition = 26\r",
      "7.63%   char possition = 27\r",
      "7.90%   char possition = 28\r",
      "8.17%   char possition = 29\r",
      "8.45%   char possition = 30\r",
      "8.72%   char possition = 31\r",
      "8.99%   char possition = 32\r",
      "9.26%   char possition = 33\r",
      "9.54%   char possition = 34\r",
      "9.81%   char possition = 35\r",
      "10.08%   char possition = 36\r",
      "10.35%   char possition = 37\r",
      "10.63%   char possition = 38\r",
      "10.90%   char possition = 39\r",
      "11.17%   char possition = 40\r",
      "11.44%   char possition = 41\r",
      "11.72%   char possition = 42\r",
      "11.99%   char possition = 43\r",
      "12.26%   char possition = 44\r",
      "12.53%   char possition = 45\r",
      "12.81%   char possition = 46\r",
      "13.08%   char possition = 47\r",
      "13.35%   char possition = 48\r",
      "13.62%   char possition = 49\r",
      "13.90%   char possition = 50\r",
      "14.17%   char possition = 51\r",
      "14.44%   char possition = 52\r",
      "14.71%   char possition = 53\r",
      "14.99%   char possition = 54\r",
      "15.26%   char possition = 55\r",
      "15.53%   char possition = 56\r",
      "15.80%   char possition = 57\r",
      "16.08%   char possition = 58\r",
      "16.35%   char possition = 59\r",
      "16.62%   char possition = 60\r",
      "16.89%   char possition = 61\r",
      "17.17%   char possition = 62\r",
      "17.44%   char possition = 63\r",
      "17.71%   char possition = 64\r",
      "17.98%   char possition = 65\r",
      "18.26%   char possition = 66\r",
      "18.53%   char possition = 67\r",
      "18.80%   char possition = 68\r",
      "19.07%   char possition = 69\r",
      "19.35%   char possition = 70\r",
      "19.62%   char possition = 71\r",
      "19.89%   char possition = 72\r",
      "20.16%   char possition = 73\r",
      "20.44%   char possition = 74\r",
      "20.71%   char possition = 75\r",
      "20.98%   char possition = 76\r",
      "21.25%   char possition = 77\r",
      "21.53%   char possition = 78\r",
      "21.80%   char possition = 79\r",
      "22.07%   char possition = 80\r",
      "22.34%   char possition = 81\r",
      "22.62%   char possition = 82\r",
      "22.89%   char possition = 83\r",
      "23.16%   char possition = 84\r",
      "23.43%   char possition = 85\r",
      "23.71%   char possition = 86\r",
      "23.98%   char possition = 87\r",
      "24.25%   char possition = 88\r",
      "24.52%   char possition = 89\r",
      "24.80%   char possition = 90\r",
      "25.07%   char possition = 91\r",
      "25.34%   char possition = 92\r",
      "25.61%   char possition = 93\r",
      "25.89%   char possition = 94\r",
      "26.16%   char possition = 95\r",
      "26.43%   char possition = 96\r",
      "26.70%   char possition = 97\r",
      "26.98%   char possition = 98\r",
      "27.25%   char possition = 99\r",
      "27.52%   char possition = 100\r",
      "27.79%   char possition = 101\r",
      "28.07%   char possition = 102\r",
      "28.34%   char possition = 103\r",
      "28.61%   char possition = 104\r",
      "28.88%   char possition = 105\r",
      "29.16%   char possition = 106\r",
      "29.43%   char possition = 107\r",
      "29.70%   char possition = 108\r",
      "29.97%   char possition = 109\r",
      "30.25%   char possition = 110\r",
      "30.52%   char possition = 111\r",
      "30.79%   char possition = 112\r",
      "31.06%   char possition = 113\r",
      "31.34%   char possition = 114\r",
      "31.61%   char possition = 115\r",
      "31.88%   char possition = 116\r",
      "32.15%   char possition = 117\r",
      "32.43%   char possition = 118\r",
      "32.70%   char possition = 119\r",
      "32.97%   char possition = 120\r",
      "33.24%   char possition = 121\r",
      "33.51%   char possition = 122\r",
      "33.79%   char possition = 123\r",
      "34.06%   char possition = 124\r",
      "34.33%   char possition = 125\r",
      "34.60%   char possition = 126\r",
      "34.88%   char possition = 127\r",
      "35.15%   char possition = 128\r",
      "35.42%   char possition = 129\r",
      "35.69%   char possition = 130\r",
      "35.97%   char possition = 131\r",
      "36.24%   char possition = 132\r",
      "36.51%   char possition = 133\r",
      "36.78%   char possition = 134\r",
      "37.06%   char possition = 135\r",
      "37.33%   char possition = 136\r",
      "37.60%   char possition = 137\r",
      "37.87%   char possition = 138\r",
      "38.15%   char possition = 139\r",
      "38.42%   char possition = 140\r",
      "38.69%   char possition = 141\r",
      "38.96%   char possition = 142\r",
      "39.24%   char possition = 143\r",
      "39.51%   char possition = 144\r",
      "39.78%   char possition = 145\r",
      "40.05%   char possition = 146\r",
      "40.33%   char possition = 147\r",
      "40.60%   char possition = 148\r",
      "40.87%   char possition = 149\r",
      "41.14%   char possition = 150\r",
      "41.42%   char possition = 151\r",
      "41.69%   char possition = 152\r",
      "41.96%   char possition = 153\r",
      "42.23%   char possition = 154\r",
      "42.51%   char possition = 155\r",
      "42.78%   char possition = 156\r",
      "43.05%   char possition = 157\r",
      "43.32%   char possition = 158\r",
      "43.60%   char possition = 159\r",
      "43.87%   char possition = 160\r",
      "44.14%   char possition = 161\r",
      "44.41%   char possition = 162\r",
      "44.69%   char possition = 163\r",
      "44.96%   char possition = 164\r",
      "45.23%   char possition = 165\r",
      "45.50%   char possition = 166\r",
      "45.78%   char possition = 167\r",
      "46.05%   char possition = 168\r",
      "46.32%   char possition = 169\r",
      "46.59%   char possition = 170\r",
      "46.87%   char possition = 171\r",
      "47.14%   char possition = 172\r",
      "47.41%   char possition = 173\r",
      "47.68%   char possition = 174\r",
      "47.96%   char possition = 175\r",
      "48.23%   char possition = 176\r",
      "48.50%   char possition = 177\r",
      "48.77%   char possition = 178\r",
      "49.05%   char possition = 179\r",
      "49.32%   char possition = 180\r",
      "49.59%   char possition = 181\r",
      "49.86%   char possition = 182\r",
      "50.14%   char possition = 183\r",
      "50.41%   char possition = 184\r",
      "50.68%   char possition = 185\r",
      "50.95%   char possition = 186\r",
      "51.23%   char possition = 187\r",
      "51.50%   char possition = 188\r",
      "51.77%   char possition = 189\r",
      "52.04%   char possition = 190\r",
      "52.32%   char possition = 191\r",
      "52.59%   char possition = 192\r",
      "52.86%   char possition = 193\r",
      "53.13%   char possition = 194\r",
      "53.41%   char possition = 195\r",
      "53.68%   char possition = 196\r",
      "53.95%   char possition = 197\r",
      "54.22%   char possition = 198\r",
      "54.50%   char possition = 199\r",
      "54.77%   char possition = 200\r",
      "55.04%   char possition = 201\r",
      "55.31%   char possition = 202\r",
      "55.59%   char possition = 203\r",
      "55.86%   char possition = 204\r",
      "56.13%   char possition = 205\r",
      "56.40%   char possition = 206\r",
      "56.68%   char possition = 207\r",
      "56.95%   char possition = 208\r",
      "57.22%   char possition = 209\r",
      "57.49%   char possition = 210\r",
      "57.77%   char possition = 211\r",
      "58.04%   char possition = 212\r",
      "58.31%   char possition = 213\r",
      "58.58%   char possition = 214\r",
      "58.86%   char possition = 215\r",
      "59.13%   char possition = 216\r",
      "59.40%   char possition = 217\r",
      "59.67%   char possition = 218\r",
      "59.95%   char possition = 219\r",
      "60.22%   char possition = 220\r",
      "60.49%   char possition = 221\r",
      "60.76%   char possition = 222\r",
      "61.04%   char possition = 223\r",
      "61.31%   char possition = 224\r",
      "61.58%   char possition = 225\r",
      "61.85%   char possition = 226\r",
      "62.13%   char possition = 227\r",
      "62.40%   char possition = 228\r",
      "62.67%   char possition = 229\r",
      "62.94%   char possition = 230\r",
      "63.22%   char possition = 231\r",
      "63.49%   char possition = 232\r",
      "63.76%   char possition = 233\r",
      "64.03%   char possition = 234\r",
      "64.31%   char possition = 235\r",
      "64.58%   char possition = 236\r",
      "64.85%   char possition = 237\r",
      "65.12%   char possition = 238\r",
      "65.40%   char possition = 239\r",
      "65.67%   char possition = 240\r",
      "65.94%   char possition = 241\r",
      "66.21%   char possition = 242\r",
      "66.49%   char possition = 243\r",
      "66.76%   char possition = 244\r",
      "67.03%   char possition = 245\r",
      "67.30%   char possition = 246\r",
      "67.57%   char possition = 247\r",
      "67.85%   char possition = 248\r",
      "68.12%   char possition = 249\r",
      "68.39%   char possition = 250\r",
      "68.66%   char possition = 251\r",
      "68.94%   char possition = 252\r",
      "69.21%   char possition = 253\r",
      "69.48%   char possition = 254\r",
      "69.75%   char possition = 255\r",
      "70.03%   char possition = 256\r",
      "70.30%   char possition = 257\r",
      "70.57%   char possition = 258\r",
      "70.84%   char possition = 259\r",
      "71.12%   char possition = 260\r",
      "71.39%   char possition = 261\r",
      "71.66%   char possition = 262\r",
      "71.93%   char possition = 263\r",
      "72.21%   char possition = 264\r",
      "72.48%   char possition = 265\r",
      "72.75%   char possition = 266\r",
      "73.02%   char possition = 267\r",
      "73.30%   char possition = 268\r",
      "73.57%   char possition = 269\r",
      "73.84%   char possition = 270\r",
      "74.11%   char possition = 271\r",
      "74.39%   char possition = 272\r",
      "74.66%   char possition = 273\r",
      "74.93%   char possition = 274\r",
      "75.20%   char possition = 275\r",
      "75.48%   char possition = 276\r",
      "75.75%   char possition = 277\r",
      "76.02%   char possition = 278\r",
      "76.29%   char possition = 279\r",
      "76.57%   char possition = 280\r",
      "76.84%   char possition = 281\r",
      "77.11%   char possition = 282\r",
      "77.38%   char possition = 283\r",
      "77.66%   char possition = 284\r",
      "77.93%   char possition = 285\r",
      "78.20%   char possition = 286\r",
      "78.47%   char possition = 287\r",
      "78.75%   char possition = 288\r",
      "79.02%   char possition = 289\r",
      "79.29%   char possition = 290\r",
      "79.56%   char possition = 291\r",
      "79.84%   char possition = 292\r",
      "80.11%   char possition = 293\r",
      "80.38%   char possition = 294\r",
      "80.65%   char possition = 295\r",
      "80.93%   char possition = 296\r",
      "81.20%   char possition = 297\r",
      "81.47%   char possition = 298\r",
      "81.74%   char possition = 299\r",
      "82.02%   char possition = 300\r",
      "82.29%   char possition = 301\r",
      "82.56%   char possition = 302\r",
      "82.83%   char possition = 303\r",
      "83.11%   char possition = 304\r",
      "83.38%   char possition = 305\r",
      "83.65%   char possition = 306\r",
      "83.92%   char possition = 307\r",
      "84.20%   char possition = 308\r",
      "84.47%   char possition = 309\r",
      "84.74%   char possition = 310\r",
      "85.01%   char possition = 311\r",
      "85.29%   char possition = 312\r",
      "85.56%   char possition = 313\r",
      "85.83%   char possition = 314\r",
      "86.10%   char possition = 315\r",
      "86.38%   char possition = 316\r",
      "86.65%   char possition = 317\r",
      "86.92%   char possition = 318\r",
      "87.19%   char possition = 319\r",
      "87.47%   char possition = 320\r",
      "87.74%   char possition = 321\r",
      "88.01%   char possition = 322\r",
      "88.28%   char possition = 323\r",
      "88.56%   char possition = 324\r",
      "88.83%   char possition = 325\r",
      "89.10%   char possition = 326\r",
      "89.37%   char possition = 327\r",
      "89.65%   char possition = 328\r",
      "89.92%   char possition = 329\r",
      "90.19%   char possition = 330\r",
      "90.46%   char possition = 331\r",
      "90.74%   char possition = 332\r",
      "91.01%   char possition = 333\r",
      "91.28%   char possition = 334\r",
      "91.55%   char possition = 335\r",
      "91.83%   char possition = 336\r",
      "92.10%   char possition = 337\r",
      "92.37%   char possition = 338\r",
      "92.64%   char possition = 339\r",
      "92.92%   char possition = 340\r",
      "93.19%   char possition = 341\r",
      "93.46%   char possition = 342\r",
      "93.73%   char possition = 343\r",
      "94.01%   char possition = 344\r",
      "94.28%   char possition = 345\r",
      "94.55%   char possition = 346\r",
      "94.82%   char possition = 347\r",
      "95.10%   char possition = 348\r",
      "95.37%   char possition = 349\r",
      "95.64%   char possition = 350\r",
      "95.91%   char possition = 351\r",
      "96.19%   char possition = 352\r",
      "96.46%   char possition = 353\r",
      "96.73%   char possition = 354\r",
      "97.00%   char possition = 355\r",
      "97.28%   char possition = 356\r",
      "97.55%   char possition = 357\r",
      "97.82%   char possition = 358\r",
      "98.09%   char possition = 359\r",
      "98.37%   char possition = 360\r",
      "98.64%   char possition = 361\r",
      "98.91%   char possition = 362\r",
      "99.18%   char possition = 363\r",
      "99.46%   char possition = 364\r",
      "99.73%   char possition = 365\r",
      "100.00%   char possition = 366"
     ]
    },
    {
     "data": {
      "text/plain": [
       "0.0022770163218851108"
      ]
     },
     "execution_count": 21,
     "metadata": {},
     "output_type": "execute_result"
    }
   ],
   "source": [
    "RE = Relative_entropy(text)\n",
    "RE"
   ]
  },
  {
   "cell_type": "code",
   "execution_count": 80,
   "metadata": {},
   "outputs": [
    {
     "name": "stdout",
     "output_type": "stream",
     "text": [
      "100.00%   char possition = 366"
     ]
    },
    {
     "data": {
      "text/plain": [
       "0.006225700290042844"
      ]
     },
     "execution_count": 80,
     "metadata": {},
     "output_type": "execute_result"
    }
   ],
   "source": [
    "RE_masked = Relative_entropy(make_random_copy_text(text))\n",
    "RE_masked"
   ]
  },
  {
   "cell_type": "code",
   "execution_count": 81,
   "metadata": {},
   "outputs": [
    {
     "data": {
      "text/plain": [
       "0.003622576201652183"
      ]
     },
     "execution_count": 81,
     "metadata": {},
     "output_type": "execute_result"
    }
   ],
   "source": [
    "D = RE_masked - RE\n",
    "D"
   ]
  },
  {
   "cell_type": "markdown",
   "metadata": {},
   "source": [
    "# 3. TTR - Type/Token ratios"
   ]
  },
  {
   "cell_type": "markdown",
   "metadata": {},
   "source": [
    "> C_TTR = V / ( summ(fr_i) )\n",
    "\n",
    "V - number of all types of words(tokens)  \n",
    "fr - frequency of i type"
   ]
  },
  {
   "cell_type": "code",
   "execution_count": 2,
   "metadata": {},
   "outputs": [
    {
     "name": "stdout",
     "output_type": "stream",
     "text": [
      "['God', 'is', 'Great', '!', 'I', 'won', 'a', 'lottery', '.', 'and', 'want', 'to', 'win', 'more', ',', 'wanted']\n"
     ]
    }
   ],
   "source": [
    "from nltk.tokenize import word_tokenize\n",
    "text = \"God is Great! I won a lottery. and want to win more, wanted\"\n",
    "print(word_tokenize(text))"
   ]
  },
  {
   "cell_type": "code",
   "execution_count": 3,
   "metadata": {},
   "outputs": [],
   "source": [
    "def TTR(text):\n",
    "    text = text.translate({ord(i): None for i in '“”<>,][.;:!?)/−(\"'+\"'\"}).split(' ')\n",
    "    pps = np.unique(text, return_counts=True)\n",
    "    return len(pps[0])/sum(pps[1])\n",
    "    "
   ]
  },
  {
   "cell_type": "code",
   "execution_count": 40,
   "metadata": {},
   "outputs": [
    {
     "data": {
      "text/plain": [
       "0.604"
      ]
     },
     "execution_count": 40,
     "metadata": {},
     "output_type": "execute_result"
    }
   ],
   "source": [
    "TTR(' '.join(T))"
   ]
  },
  {
   "cell_type": "markdown",
   "metadata": {},
   "source": [
    "# 4. MATTR: TTR + window"
   ]
  },
  {
   "cell_type": "code",
   "execution_count": 12,
   "metadata": {},
   "outputs": [],
   "source": [
    "def MATTR(text, window=500):\n",
    "    if len(text) < window:\n",
    "        window = len(text)\n",
    "    pos = 0\n",
    "    result = 0\n",
    "    while pos + window <= len(text):\n",
    "        result += TTR(text[pos: pos+window])\n",
    "        pos += 1\n",
    "    return result/pos"
   ]
  },
  {
   "cell_type": "code",
   "execution_count": 5,
   "metadata": {},
   "outputs": [
    {
     "ename": "NameError",
     "evalue": "name 'T' is not defined",
     "output_type": "error",
     "traceback": [
      "\u001b[1;31m---------------------------------------------------------------------------\u001b[0m",
      "\u001b[1;31mNameError\u001b[0m                                 Traceback (most recent call last)",
      "\u001b[1;32m<ipython-input-5-1c094f936808>\u001b[0m in \u001b[0;36m<module>\u001b[1;34m\u001b[0m\n\u001b[1;32m----> 1\u001b[1;33m \u001b[0mMATTR\u001b[0m\u001b[1;33m(\u001b[0m\u001b[1;34m' '\u001b[0m\u001b[1;33m.\u001b[0m\u001b[0mjoin\u001b[0m\u001b[1;33m(\u001b[0m\u001b[0mT\u001b[0m\u001b[1;33m)\u001b[0m\u001b[1;33m,\u001b[0m \u001b[1;36m500\u001b[0m\u001b[1;33m)\u001b[0m\u001b[1;33m\u001b[0m\u001b[1;33m\u001b[0m\u001b[0m\n\u001b[0m",
      "\u001b[1;31mNameError\u001b[0m: name 'T' is not defined"
     ]
    }
   ],
   "source": [
    "MATTR(' '.join(T), 500)"
   ]
  },
  {
   "cell_type": "code",
   "execution_count": 8,
   "metadata": {},
   "outputs": [],
   "source": [
    "tt = '''que una vez estaba mirando en el bote\n",
    "estaban durmiendo\n",
    "y se despertaron\n",
    "y se le escapó la rana\n",
    "luego el perro metió la cabeza en el frasco\n",
    "luego se cayó por la ventana\n",
    "y luego se fueron y\n",
    "luego se fueron a un avispero\n",
    "luego se metieron en el árbol en el\n",
    "se cayó\n",
    "y luego todas las avispas le fueron a picar al perro\n",
    "está ya y éste\n",
    "le coge un ciervo el perro\n",
    "y luego se quedan\n",
    "le tiran al niño a un lago\n",
    "cogen a su rana otra vez\n",
    "luego se van a casa\n",
    "'''"
   ]
  },
  {
   "cell_type": "code",
   "execution_count": 11,
   "metadata": {},
   "outputs": [
    {
     "data": {
      "text/plain": [
       "0.740153860105842"
      ]
     },
     "execution_count": 11,
     "metadata": {},
     "output_type": "execute_result"
    }
   ],
   "source": [
    "MATTR(tt)"
   ]
  },
  {
   "cell_type": "markdown",
   "metadata": {},
   "source": [
    "*****"
   ]
  },
  {
   "cell_type": "markdown",
   "metadata": {},
   "source": [
    "# CAMB at CWI Shared Task 2018: Complex Word Identification with Ensemble-Based Voting\n",
    "Gini coefficient for feature contribution"
   ]
  },
  {
   "cell_type": "code",
   "execution_count": 8,
   "metadata": {},
   "outputs": [
    {
     "data": {
      "text/html": [
       "<div>\n",
       "<style scoped>\n",
       "    .dataframe tbody tr th:only-of-type {\n",
       "        vertical-align: middle;\n",
       "    }\n",
       "\n",
       "    .dataframe tbody tr th {\n",
       "        vertical-align: top;\n",
       "    }\n",
       "\n",
       "    .dataframe thead th {\n",
       "        text-align: right;\n",
       "    }\n",
       "</style>\n",
       "<table border=\"1\" class=\"dataframe\">\n",
       "  <thead>\n",
       "    <tr style=\"text-align: right;\">\n",
       "      <th></th>\n",
       "      <th>Features</th>\n",
       "      <th>NEWS</th>\n",
       "      <th>WINS</th>\n",
       "      <th>WIKI</th>\n",
       "    </tr>\n",
       "  </thead>\n",
       "  <tbody>\n",
       "    <tr>\n",
       "      <th>0</th>\n",
       "      <td>N-grams</td>\n",
       "      <td>0.792</td>\n",
       "      <td>0.789</td>\n",
       "      <td>0.754</td>\n",
       "    </tr>\n",
       "    <tr>\n",
       "      <th>1</th>\n",
       "      <td>POS</td>\n",
       "      <td>0.033</td>\n",
       "      <td>0.035</td>\n",
       "      <td>0.046</td>\n",
       "    </tr>\n",
       "    <tr>\n",
       "      <th>2</th>\n",
       "      <td>Freq</td>\n",
       "      <td>0.029</td>\n",
       "      <td>0.029</td>\n",
       "      <td>0.043</td>\n",
       "    </tr>\n",
       "    <tr>\n",
       "      <th>3</th>\n",
       "      <td>Syn</td>\n",
       "      <td>0.020</td>\n",
       "      <td>0.027</td>\n",
       "      <td>0.013</td>\n",
       "    </tr>\n",
       "    <tr>\n",
       "      <th>4</th>\n",
       "      <td>FAM</td>\n",
       "      <td>0.016</td>\n",
       "      <td>0.008</td>\n",
       "      <td>0.019</td>\n",
       "    </tr>\n",
       "    <tr>\n",
       "      <th>5</th>\n",
       "      <td>Syll</td>\n",
       "      <td>0.013</td>\n",
       "      <td>0.021</td>\n",
       "      <td>0.018</td>\n",
       "    </tr>\n",
       "    <tr>\n",
       "      <th>6</th>\n",
       "      <td>KFSMP</td>\n",
       "      <td>0.012</td>\n",
       "      <td>0.010</td>\n",
       "      <td>0.008</td>\n",
       "    </tr>\n",
       "    <tr>\n",
       "      <th>7</th>\n",
       "      <td>SimpWiki</td>\n",
       "      <td>0.010</td>\n",
       "      <td>0.011</td>\n",
       "      <td>0.005</td>\n",
       "    </tr>\n",
       "    <tr>\n",
       "      <th>8</th>\n",
       "      <td>TLFRQ</td>\n",
       "      <td>0.010</td>\n",
       "      <td>0.009</td>\n",
       "      <td>0.011</td>\n",
       "    </tr>\n",
       "    <tr>\n",
       "      <th>9</th>\n",
       "      <td>CNC</td>\n",
       "      <td>0.009</td>\n",
       "      <td>0.010</td>\n",
       "      <td>0.009</td>\n",
       "    </tr>\n",
       "  </tbody>\n",
       "</table>\n",
       "</div>"
      ],
      "text/plain": [
       "   Features   NEWS   WINS   WIKI\n",
       "0   N-grams  0.792  0.789  0.754\n",
       "1       POS  0.033  0.035  0.046\n",
       "2      Freq  0.029  0.029  0.043\n",
       "3       Syn  0.020  0.027  0.013\n",
       "4       FAM  0.016  0.008  0.019\n",
       "5      Syll  0.013  0.021  0.018\n",
       "6     KFSMP  0.012  0.010  0.008\n",
       "7  SimpWiki  0.010  0.011  0.005\n",
       "8     TLFRQ  0.010  0.009  0.011\n",
       "9       CNC  0.009  0.010  0.009"
      ]
     },
     "execution_count": 8,
     "metadata": {},
     "output_type": "execute_result"
    }
   ],
   "source": [
    "table = pd.DataFrame([x.split(' ') for x in \n",
    "'''N-grams 0.792 0.789 0.754\n",
    "POS 0.033 0.035 0.046\n",
    "Freq 0.029 0.029 0.043\n",
    "Syn 0.020 0.027 0.013\n",
    "FAM 0.016 0.008 0.019\n",
    "Syll 0.013 0.021 0.018\n",
    "KFSMP 0.012 0.010 0.008\n",
    "SimpWiki 0.010 0.011 0.005\n",
    "TLFRQ 0.010 0.009 0.011\n",
    "CNC 0.009 0.010 0.009'''.split('\\n')], columns= [x for x in 'Features NEWS WINS WIKI'.split(' ')])\n",
    "table"
   ]
  },
  {
   "cell_type": "markdown",
   "metadata": {},
   "source": [
    "## Tools:\n",
    "> https://www.nlpcore.com  \n",
    "https://github.com/siangooding/cwi"
   ]
  },
  {
   "cell_type": "markdown",
   "metadata": {},
   "source": [
    "# To RE"
   ]
  },
  {
   "cell_type": "code",
   "execution_count": null,
   "metadata": {},
   "outputs": [],
   "source": []
  }
 ],
 "metadata": {
  "kernelspec": {
   "display_name": "Python 3",
   "language": "python",
   "name": "python3"
  },
  "language_info": {
   "codemirror_mode": {
    "name": "ipython",
    "version": 3
   },
   "file_extension": ".py",
   "mimetype": "text/x-python",
   "name": "python",
   "nbconvert_exporter": "python",
   "pygments_lexer": "ipython3",
   "version": "3.8.5"
  }
 },
 "nbformat": 4,
 "nbformat_minor": 4
}
