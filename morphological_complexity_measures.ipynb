{
 "cells": [
  {
   "cell_type": "code",
   "execution_count": 48,
   "metadata": {},
   "outputs": [],
   "source": [
    "import numpy as np\n",
    "import matplotlib.pyplot as plt\n",
    "plt.style.use('seaborn')\n",
    "import random\n",
    "import re\n",
    "import copy"
   ]
  },
  {
   "cell_type": "markdown",
   "metadata": {},
   "source": [
    "# Targets:  \n",
    "1. Word entropy  \n",
    "2. Relative entropy of word structure  \n",
    "3. TTR  \n",
    "4. MTTR -זה לא קיים במאמר אבל הוא קיים, סוג של ממוצע נע של TTR"
   ]
  },
  {
   "cell_type": "markdown",
   "metadata": {},
   "source": [
    "## 1. Word entrophy:  \n",
    "чем больше спектр типов слов(спряжений и тп) тем больше информации упаковывается в слово нежели в словосочетание или предложение.  \n",
    "T - text  \n",
    "V - vocabulary of word types {w1,w2,w3,w4,..,wVV}\n",
    "VV = |V|  \n",
    "p(w) = Pr(T=w) for w in V   - probability of word type  \n",
    "\n",
    "> #### The average information content of word types  \n",
    "> H(T) = - sum( p(w_i) * log2(p(w_i)) ) from i=1 to VV\n"
   ]
  },
  {
   "cell_type": "markdown",
   "metadata": {},
   "source": [
    "### James-Stein shrinkage estimator\n",
    "> ~p(w_i)(shrink) = alpha * ~p(w_i)(target) + (1 - alpha) * ~p(w_i)(ML)  \n",
    "\n",
    "\\~p(w_i)(ML) - denotes the word probability according to the maximum likelihood account **max(~p(w))**   \n",
    "alpha in [0,1] -  “shrinkage intensity”  \n",
    "~p(w_i)(target) - “shrinkage target”  \n",
    "\n",
    "maximum entropy case of auniform = p(w_i) = 1 / V"
   ]
  },
  {
   "cell_type": "code",
   "execution_count": 2,
   "metadata": {},
   "outputs": [],
   "source": [
    "V = np.arange(0, 16, 1)  # types of word\n",
    "T = [random.choice(V) for _ in range(100)]  # text with differend type of words"
   ]
  },
  {
   "cell_type": "code",
   "execution_count": 3,
   "metadata": {},
   "outputs": [],
   "source": [
    "p = {x[0]:x[1]/len(T)   for x in np.transpose(np.unique(T, return_counts=True))} # probability of word type"
   ]
  },
  {
   "cell_type": "code",
   "execution_count": 4,
   "metadata": {},
   "outputs": [
    {
     "name": "stdout",
     "output_type": "stream",
     "text": [
      "{0: 0.07, 1: 0.1, 2: 0.04, 3: 0.04, 4: 0.04, 5: 0.06, 6: 0.08, 7: 0.1, 8: 0.07, 9: 0.06, 10: 0.02, 11: 0.06, 12: 0.1, 13: 0.04, 14: 0.03, 15: 0.09}\n",
      "sum 1.0\n"
     ]
    }
   ],
   "source": [
    "ss = 0\n",
    "for x in p:\n",
    "    ss += p[x]\n",
    "print(p) # all elements\n",
    "print('sum', round(ss, 5)) # summ of all probabilities"
   ]
  },
  {
   "cell_type": "markdown",
   "metadata": {},
   "source": [
    "#### James-Stein shrinkage estimator"
   ]
  },
  {
   "cell_type": "code",
   "execution_count": 5,
   "metadata": {},
   "outputs": [],
   "source": [
    "alpha = 0.7\n",
    "max_prob = p[max(p, key=p.get)] # maximum probability from our text\n",
    "alpha_func = lambda x: round(alpha*x + (1-alpha)*max_prob, 5)\n",
    "\n",
    "p_JS = {x:alpha_func(p[x]) for x in p}"
   ]
  },
  {
   "cell_type": "code",
   "execution_count": 6,
   "metadata": {},
   "outputs": [
    {
     "name": "stdout",
     "output_type": "stream",
     "text": [
      "{0: 0.079, 1: 0.1, 2: 0.058, 3: 0.058, 4: 0.058, 5: 0.072, 6: 0.086, 7: 0.1, 8: 0.079, 9: 0.072, 10: 0.044, 11: 0.072, 12: 0.1, 13: 0.058, 14: 0.051, 15: 0.093}\n",
      "sum 1.1799999999999997\n"
     ]
    }
   ],
   "source": [
    "print(p_JS)\n",
    "print('sum', sum([p_JS[x] for x in p_JS]))"
   ]
  },
  {
   "cell_type": "markdown",
   "metadata": {},
   "source": [
    "### Average information content"
   ]
  },
  {
   "cell_type": "code",
   "execution_count": 7,
   "metadata": {},
   "outputs": [],
   "source": [
    "def Word_entrophy(prob_dict):\n",
    "    return round(-sum( prob_dict[word] * np.log2((prob_dict[word])) for word in prob_dict ), 5)"
   ]
  },
  {
   "cell_type": "code",
   "execution_count": 8,
   "metadata": {},
   "outputs": [
    {
     "name": "stdout",
     "output_type": "stream",
     "text": [
      "WE: 3.87611 \n",
      "WE JS: 4.38841 \n",
      "random text std: 4.671\n",
      "max probability: 0.1 \n",
      "min probability: 0.02\n"
     ]
    }
   ],
   "source": [
    "we_random_text = Word_entrophy(p)\n",
    "weJS_random_text = Word_entrophy(p_JS)\n",
    "print('WE:', we_random_text, '\\nWE JS:', weJS_random_text,'\\nrandom text std:', round(np.std(T), 4))\n",
    "print('max probability:', max_prob, '\\nmin probability:', p[min(p, key=p.get)])"
   ]
  },
  {
   "cell_type": "code",
   "execution_count": 9,
   "metadata": {},
   "outputs": [
    {
     "data": {
      "image/png": "[encoded data removed]",
      "text/plain": [
       "<Figure size 576x396 with 1 Axes>"
      ]
     },
     "metadata": {},
     "output_type": "display_data"
    }
   ],
   "source": [
    "we_func = [-x*np.log2(x+0.00000000001) for x in np.arange(0, 1, 0.01)]\n",
    "line = np.arange(0,1,0.01)\n",
    "plt.plot( line, we_func)\n",
    "plt.plot(line, line, 'r--')\n",
    "# plt.plot(line,  aic_func - line, '.')\n",
    "plt.show()"
   ]
  },
  {
   "cell_type": "markdown",
   "metadata": {},
   "source": [
    ">### if all probabilities the same?"
   ]
  },
  {
   "cell_type": "code",
   "execution_count": 10,
   "metadata": {},
   "outputs": [
    {
     "name": "stdout",
     "output_type": "stream",
     "text": [
      "{1: 0.0667, 2: 0.0667, 3: 0.0667, 4: 0.0667, 5: 0.0667, 6: 0.0667, 7: 0.0667, 8: 0.0667, 9: 0.0667, 10: 0.0667, 11: 0.0667, 12: 0.0667, 13: 0.0667, 14: 0.0667, 15: 0.0667}\n",
      "sum prob: 1.0005\n",
      "WE test: 3.90812 \n",
      "probability of 1 element = 0.0667\n"
     ]
    }
   ],
   "source": [
    "VV = 15\n",
    "p_test = {x:round(1/VV, 4) for x in np.arange(1, VV+1, 1)}\n",
    "print(p_test)\n",
    "print('sum prob:', sum([p_test[x] for x in p_test]))\n",
    "aic_test = Word_entrophy(p_test)\n",
    "print('WE test:', aic_test, '\\nprobability of 1 element =', p_test[1])"
   ]
  },
  {
   "cell_type": "markdown",
   "metadata": {},
   "source": [
    "> ### half rare half often"
   ]
  },
  {
   "cell_type": "code",
   "execution_count": 11,
   "metadata": {},
   "outputs": [
    {
     "name": "stdout",
     "output_type": "stream",
     "text": [
      "{1: 0.1333, 2: 0.1333, 3: 0.1333, 4: 0.1333, 5: 0.1333, 6: 0.1333, 7: 0.1333, 8: 0.1333, 9: 0.0001, 10: 0.0001, 11: 0.0001, 12: 0.0001, 13: 0.0001, 14: 0.0001, 15: 0.0001}\n",
      "sum prob: 1.0671\n",
      "WE test: 3.10959 \n",
      "max probability: 0.1333 \n",
      "min probability: 0.0001\n"
     ]
    }
   ],
   "source": [
    "VV = 15\n",
    "ttt = np.ones((VV)) / VV * 2  # probabilities\n",
    "ttt[int(np.ceil(VV/2)):] = 0.0001\n",
    "p_test2 = {x:round(y,4) for x,y in zip(np.arange(1, VV+1, 1), ttt)}\n",
    "print(p_test2)\n",
    "print('sum prob:', round(sum([p_test2[x] for x in p_test2]), 4))\n",
    "we_test2 = Word_entrophy(p_test2)\n",
    "print('WE test:', we_test2, '\\nmax probability:', p_test2[1], '\\nmin probability:', p_test2[VV])"
   ]
  },
  {
   "cell_type": "markdown",
   "metadata": {},
   "source": [
    "# 2.Relative entropy of word structure"
   ]
  },
  {
   "cell_type": "markdown",
   "metadata": {},
   "source": [
    "T - text drawn from alphabet A  \n",
    "A = {c1,c2,c3,..cAA} - alphabet  \n",
    "> ~H(T) = [ sum( l_i / log2(i+1) ) / n ]^-1 for i {1:n}\n",
    "\n",
    "n - number of characters in text (T)  \n",
    "l_i - is the length of the longest substring from position i onward that has not appeared before  \n",
    "> ~D = ~H(T_masked) - ~H(T_orig)\n",
    "\n",
    "T_masked - token of the same length but with characters randomly drawn with equal probability from the alphabet A"
   ]
  },
  {
   "cell_type": "markdown",
   "metadata": {},
   "source": [
    "#### Universal Entropy of Word Ordering Across Linguistic Families  \n",
    "https://journals.plos.org/plosone/article?id=10.1371/journal.pone.0019875\n",
    "\n",
    "Let us consider a whole symbolic sequence of length n as , where i denotes any position inside the sequence. For every position i, there is a length, l_i, corresponding to the **~shortest~** contiguous subsequence that starts at position i, and does not appear in any continuous subsequence starting anywhere between position 1 and . For instance, consider the following alphabetical sequence: CDABCDEABCZ; at position 8, the shortest mismatch is l8 = 4. After parsing the whole sequence, the resulting series  will contain information about the redundancy in it"
   ]
  },
  {
   "cell_type": "markdown",
   "metadata": {},
   "source": [
    "## Building random alphabet"
   ]
  },
  {
   "cell_type": "code",
   "execution_count": 12,
   "metadata": {},
   "outputs": [],
   "source": [
    "A = [chr(x) for x in np.arange(97, 97+26, 1)] # Alphabet"
   ]
  },
  {
   "cell_type": "code",
   "execution_count": 13,
   "metadata": {},
   "outputs": [],
   "source": [
    "def build_vocabulary(Alphabet, size, avr_len_word):\n",
    "    Voc = []\n",
    "    params = {'Alphabet':{x:0 for x in Alphabet}, 'Len_words': {}}\n",
    "    while len(Voc) < size:\n",
    "        len_word = max(int(random.normalvariate(avr_len_word, avr_len_word/3)), 1)\n",
    "        new_word = ''.join(random.choice(A) for i in range(len_word))\n",
    "        if new_word not in Voc:\n",
    "            Voc.append(new_word)\n",
    "            if len_word in params['Len_words']:\n",
    "                params['Len_words'][len_word] += 1\n",
    "            else:\n",
    "                params['Len_words'][len_word] = 1\n",
    "            for w in new_word:\n",
    "                params['Alphabet'][w] += 1\n",
    "    params['Len_words'] = dict(sorted(params['Len_words'].items()))\n",
    "            \n",
    "    return Voc, params"
   ]
  },
  {
   "cell_type": "markdown",
   "metadata": {},
   "source": [
    "## Building random vocabulary"
   ]
  },
  {
   "cell_type": "code",
   "execution_count": 15,
   "metadata": {},
   "outputs": [
    {
     "name": "stdout",
     "output_type": "stream",
     "text": [
      "['q' 'u' 'dfr' 'uong' 'vqdo' 'tes' 'rszvr' 'lby' 'uetov' 'nb' 'a' 'tk'\n",
      " 'adc' 'rj' 'exivj' 'zjyt' 'kmmmr' 'nctew' 'juspp' 'utfa' 'gej' 'kuml'\n",
      " 'lp' 'jckriu' 'basn' 'ldryl' 'yokx' 'qbosh' 'vnzk' 'wtt' 'ednxul' 'kej'\n",
      " 'zy' 'bqi' 'fyb' 'kbptfn' 'ie' 'puhem' 'md' 'blyt' 'kp' 'atv' 'wgu'\n",
      " 'dzue' 'fvi' 'feoj' 'osxc' 'ngw' 'ja' 'tvcb' 'ofm' 'lftavw' 'guydy'\n",
      " 'fjioh' 'uhhwk' 'qho' 'qtuil' 'ivm' 'scbnk' 'gzcf' 'wbtl' 'mtam' 'xd'\n",
      " 'kxp' 'zcnn' 'otf' 'thj' 'gg' 'cim' 'ldzr' 'zlr' 'lygz' 'xyplhe' 'caai'\n",
      " 'see' 'mhv' 'zkk' 'na' 'v' 'craau' 'vvud' 'e' 'ydj' 'omiu' 'dsvqjxk'\n",
      " 'xjgex' 'ymkj' 'gimfmc' 'rn' 'h' 'jrrwz' 'wwu' 'ojpx' 'tx' 'fk' 'ajn'\n",
      " 'owdb' 'z' 'depe' 'nma' 'fysh' 'ya' 'jl' 'eoj' 'tzyz' 'olzj' 'uepd'\n",
      " 'lwrcz' 'nou' 'uwlh' 'fcx' 'lhof' 'sdxex' 'rdn' 'xbjss' 'ixrvem' 'mvw'\n",
      " 'hw' 'fyl' 'slky' 'npwv' 'd' 'pzsndc' 'nul' 'lbfx' 'xtp' 'dftsd' 'fous'\n",
      " 'xp' 'ria' 'uz' 'zlb' 'tlk' 'dkgy' 'gp' 'qx' 'yyicd' 'vriz' 'acyv' 'mgdj'\n",
      " 'jqe' 'mplf' 'zbjz' 'kc' 'vcltnh' 'doep' 'oibd' 'buuv' 'ypmbu' 'brow'\n",
      " 'xidt' 'j' 'grgc' 'pqef' 'rmw' 'fttj' 'ztmlew' 'mu' 'gfk' 'xfcx' 'ifjs'\n",
      " 'cwhtak' 'kqu' 'ua' 'evhf' 'ele' 'nbd' 'nbf' 'sidv' 'qforhlf' 'ob'\n",
      " 'kwfoi' 'xu' 't' 'zbf' 's' 'vwvwu' 'zku' 'ryu' 'qzcjv' 'qtjz' 'jecp'\n",
      " 'acsc' 'iztn' 'smf' 'oeg' 'i' 'p' 'yf' 'qtqno' 'zyecr' 'ngqmx' 'hm'\n",
      " 'ejbc' 'g' 'fmlyd' 'smhqb' 'man' 'pugk' 'qjaf']\n"
     ]
    }
   ],
   "source": [
    "avr_len_word = 4\n",
    "num_words = 200\n",
    "\n",
    "V, voc_params = build_vocabulary(A, num_words, avr_len_word)\n",
    "print(np.array(V))"
   ]
  },
  {
   "cell_type": "code",
   "execution_count": 16,
   "metadata": {},
   "outputs": [
    {
     "name": "stdout",
     "output_type": "stream",
     "text": [
      "Alphabet:  {'a': 23, 'b': 26, 'c': 28, 'd': 31, 'e': 33, 'f': 36, 'g': 21, 'h': 20, 'i': 23, 'j': 33, 'k': 27, 'l': 31, 'm': 31, 'n': 27, 'o': 27, 'p': 23, 'q': 19, 'r': 24, 's': 23, 't': 33, 'u': 35, 'v': 27, 'w': 23, 'x': 26, 'y': 27, 'z': 30} \n",
      "Len_words:  {1: 14, 2: 29, 3: 52, 4: 61, 5: 31, 6: 11, 7: 2}\n"
     ]
    }
   ],
   "source": [
    "print('Alphabet: ',voc_params['Alphabet'],'\\nLen_words: ', voc_params['Len_words'])"
   ]
  },
  {
   "cell_type": "code",
   "execution_count": 17,
   "metadata": {},
   "outputs": [
    {
     "data": {
      "image/png": "[encoded data removed]",
      "text/plain": [
       "<Figure size 576x396 with 1 Axes>"
      ]
     },
     "metadata": {},
     "output_type": "display_data"
    }
   ],
   "source": [
    "plt.bar(voc_params['Len_words'].keys(), voc_params['Len_words'].values())\n",
    "plt.title('distribution of lenght word')\n",
    "plt.xticks(np.arange(1, max(voc_params['Len_words'].keys())+1, 1))\n",
    "plt.show()"
   ]
  },
  {
   "cell_type": "code",
   "execution_count": 18,
   "metadata": {},
   "outputs": [
    {
     "data": {
      "image/png": "[encoded data removed]",
      "text/plain": [
       "<Figure size 576x396 with 1 Axes>"
      ]
     },
     "metadata": {},
     "output_type": "display_data"
    }
   ],
   "source": [
    "plt.bar(voc_params['Alphabet'].keys(), voc_params['Alphabet'].values())\n",
    "plt.title('distribution of letters in vocabulary')\n",
    "# plt.xticks(np.arange(1, max(voc_params['Len_words'].keys())+1, 1))\n",
    "plt.show()"
   ]
  },
  {
   "cell_type": "markdown",
   "metadata": {},
   "source": [
    "## Building random text"
   ]
  },
  {
   "cell_type": "code",
   "execution_count": 19,
   "metadata": {},
   "outputs": [],
   "source": [
    "text_len = 250\n",
    "T = [random.choice(V) for _ in range(text_len)]\n",
    "pps = np.unique(T, return_counts=True)\n",
    "words_frequency = {pps[0][i]:pps[1][i] for i in range(len(pps[0]))}\n",
    "del(pps)"
   ]
  },
  {
   "cell_type": "code",
   "execution_count": 20,
   "metadata": {},
   "outputs": [
    {
     "data": {
      "image/png": "[encoded data removed]",
      "text/plain": [
       "<Figure size 576x396 with 1 Axes>"
      ]
     },
     "metadata": {},
     "output_type": "display_data"
    }
   ],
   "source": [
    "plt.bar(np.arange(0, len(words_frequency.keys()),1), words_frequency.values())\n",
    "plt.title('words frequency in text')\n",
    "# plt.xticks(np.arange(1, max(voc_params['Len_words'].keys())+1, 1))\n",
    "plt.show()"
   ]
  },
  {
   "cell_type": "code",
   "execution_count": 62,
   "metadata": {},
   "outputs": [],
   "source": [
    "def longest_substring(text):\n",
    "    # last index of every character\n",
    "    last_idx = {}\n",
    "    max_len = 0\n",
    " \n",
    "    # starting index of current \n",
    "    # window to calculate max_len\n",
    "    start_idx = 0\n",
    " \n",
    "    for i in range(0, len(string)):\n",
    "       \n",
    "        # Find the last index of str[i]\n",
    "        # Update start_idx (starting index of current window)\n",
    "        # as maximum of current value of start_idx and last\n",
    "        # index plus 1\n",
    "        if string[i] in last_idx:\n",
    "            start_idx = max(start_idx, last_idx[string[i]] + 1)\n",
    " \n",
    "        # Update result if we get a larger window\n",
    "        max_len = max(max_len, i-start_idx + 1)\n",
    " \n",
    "        # Update last index of current char.\n",
    "        last_idx[string[i]] = i\n",
    " \n",
    "    return max_len\n",
    "\n",
    "def max_shortest_substring(text, i):\n",
    "    max_len = 0\n",
    "    start = 0\n",
    "    exist = 1\n",
    "    lenght = 0\n",
    "    text_len = len(text)\n",
    "    while True:\n",
    "        while exist and (i + start + lenght) <= text_len:\n",
    "            lenght += 1\n",
    "            exist_old = exist\n",
    "            exist = re.search(text[i + start: i + start + lenght], text[:i])\n",
    "        if max_len < lenght and exist is None:\n",
    "            max_len = lenght\n",
    "#             print(text[exist_old.start():exist_old.end()])\n",
    "        lenght = 0\n",
    "        start += 1\n",
    "        exist = 1\n",
    "        if text_len - (i + start) < max_len:\n",
    "            return max_len\n",
    "            \n",
    "\n",
    "def Relative_entropy(text):\n",
    "    summ = 0\n",
    "    text = ''.join(text).translate({ord(i): None for i in '“”<>,][.;:!?)/−(\" '+\"'\"})\n",
    "    print('00.00%', end='')\n",
    "    for i in np.arange(0, len(text), 1):\n",
    "        \n",
    "        l = max_shortest_substring(text, i)  # max length of the shortest substring from position i onward that has not appeared before \n",
    "        summ += ( l / np.log2(i+1+1) )  # \"i+1+1\" in formula cicle from 1, we go from 0\n",
    "        print('\\r{:2.2f}%   char possition = {}'.format((i+1)/len(text)*100, i), end='')\n",
    "\n",
    "    return pow(summ, -1)\n",
    "        \n",
    "def probability_char(text):\n",
    "    text = ''.join(text).translate({ord(i): None for i in '“”<>,][.;:!?)/−(\" '+\"'\"})\n",
    "    char_counts = {}\n",
    "    char_prob = {}\n",
    "    for i in range(len(text)):\n",
    "        if text[i] in char_counts:\n",
    "            char_counts[text[i]] += 1\n",
    "        else:\n",
    "            char_counts[text[i]] = 1\n",
    "    char_prob = {x:char_counts[x]/len(text) for x in char_counts}\n",
    "    return char_prob, char_counts\n",
    "\n",
    "def calc_probability_word(word, dict_prob):\n",
    "    summ = 0\n",
    "    for w in word:\n",
    "        summ += dict_prob[w]\n",
    "    return summ\n",
    "\n",
    "def make_random_copy_text(text):\n",
    "    prob_char,_ = probability_char(text)\n",
    "    text = text.translate({ord(i): None for i in '“”<>,][.;:!?)/−(\"'+\"'\"}).split(' ')\n",
    "    text_c = copy.deepcopy(text)\n",
    "    \n",
    "    chars = [x for x in prob_char]\n",
    "    \n",
    "    prob_dev = 0.1\n",
    "    for i in range(len(text)):\n",
    "        word_prob = calc_probability_word(text[i], prob_char)\n",
    "        new_word_prob = 0\n",
    "        \n",
    "        while new_word_prob < word_prob*(1-prob_dev) or new_word_prob > word_prob*(1 + prob_dev):\n",
    "            new_word = ''\n",
    "            new_word_prob = 0\n",
    "            for l in range(len(text[i])):\n",
    "                new_char = random.choice(chars)\n",
    "                new_word += new_char\n",
    "                new_word_prob += prob_char[new_char]\n",
    "                \n",
    "        text_c[i] = new_word\n",
    "    return text_c\n",
    "            "
   ]
  },
  {
   "cell_type": "code",
   "execution_count": 63,
   "metadata": {},
   "outputs": [],
   "source": [
    "text = '''Let us consider a whole symbolic sequence of length n as , where i denotes any position inside the sequence. \n",
    "        For every position i, there is a length, l_i, corresponding to the shortest contiguous subsequence that starts at position i, \n",
    "        and does not appear in any continuous subsequence starting anywhere'''"
   ]
  },
  {
   "cell_type": "code",
   "execution_count": 64,
   "metadata": {},
   "outputs": [
    {
     "name": "stdout",
     "output_type": "stream",
     "text": [
      "100.00%   char possition = 248"
     ]
    },
    {
     "data": {
      "text/plain": [
       "0.0026561961925050926"
      ]
     },
     "execution_count": 64,
     "metadata": {},
     "output_type": "execute_result"
    }
   ],
   "source": [
    "RE = Relative_entropy(text)\n",
    "RE"
   ]
  },
  {
   "cell_type": "code",
   "execution_count": 65,
   "metadata": {},
   "outputs": [
    {
     "name": "stdout",
     "output_type": "stream",
     "text": [
      "00.00%\r",
      "0.38%   char possition = 0\r",
      "0.75%   char possition = 1\r",
      "1.13%   char possition = 2\r",
      "1.51%   char possition = 3\r",
      "1.89%   char possition = 4\r",
      "2.26%   char possition = 5\r",
      "2.64%   char possition = 6\r",
      "3.02%   char possition = 7\r",
      "3.40%   char possition = 8\r",
      "3.77%   char possition = 9\r",
      "4.15%   char possition = 10\r",
      "4.53%   char possition = 11\r",
      "4.91%   char possition = 12\r",
      "5.28%   char possition = 13\r",
      "5.66%   char possition = 14\r",
      "6.04%   char possition = 15\r",
      "6.42%   char possition = 16\r",
      "6.79%   char possition = 17\r",
      "7.17%   char possition = 18\r",
      "7.55%   char possition = 19\r",
      "7.92%   char possition = 20\r",
      "8.30%   char possition = 21\r",
      "8.68%   char possition = 22\r",
      "9.06%   char possition = 23\r",
      "9.43%   char possition = 24\r",
      "9.81%   char possition = 25\r",
      "10.19%   char possition = 26\r",
      "10.57%   char possition = 27\r",
      "10.94%   char possition = 28\r",
      "11.32%   char possition = 29\r",
      "11.70%   char possition = 30\r",
      "12.08%   char possition = 31\r",
      "12.45%   char possition = 32\r",
      "12.83%   char possition = 33\r",
      "13.21%   char possition = 34\r",
      "13.58%   char possition = 35\r",
      "13.96%   char possition = 36\r",
      "14.34%   char possition = 37\r",
      "14.72%   char possition = 38\r",
      "15.09%   char possition = 39\r",
      "15.47%   char possition = 40\r",
      "15.85%   char possition = 41\r",
      "16.23%   char possition = 42\r",
      "16.60%   char possition = 43\r",
      "16.98%   char possition = 44\r",
      "17.36%   char possition = 45\r",
      "17.74%   char possition = 46\r",
      "18.11%   char possition = 47\r",
      "18.49%   char possition = 48\r",
      "18.87%   char possition = 49\r",
      "19.25%   char possition = 50\r",
      "19.62%   char possition = 51\r",
      "20.00%   char possition = 52\r",
      "20.38%   char possition = 53\r",
      "20.75%   char possition = 54\r",
      "21.13%   char possition = 55\r",
      "21.51%   char possition = 56\r",
      "21.89%   char possition = 57\r",
      "22.26%   char possition = 58\r",
      "22.64%   char possition = 59\r",
      "23.02%   char possition = 60\r",
      "23.40%   char possition = 61\r",
      "23.77%   char possition = 62\r",
      "24.15%   char possition = 63\r",
      "24.53%   char possition = 64\r",
      "24.91%   char possition = 65\r",
      "25.28%   char possition = 66\r",
      "25.66%   char possition = 67\r",
      "26.04%   char possition = 68\r",
      "26.42%   char possition = 69\r",
      "26.79%   char possition = 70\r",
      "27.17%   char possition = 71\r",
      "27.55%   char possition = 72\r",
      "27.92%   char possition = 73\r",
      "28.30%   char possition = 74\r",
      "28.68%   char possition = 75\r",
      "29.06%   char possition = 76\r",
      "29.43%   char possition = 77\r",
      "29.81%   char possition = 78\r",
      "30.19%   char possition = 79\r",
      "30.57%   char possition = 80\r",
      "30.94%   char possition = 81\r",
      "31.32%   char possition = 82\r",
      "31.70%   char possition = 83\r",
      "32.08%   char possition = 84\r",
      "32.45%   char possition = 85\r",
      "32.83%   char possition = 86\r",
      "33.21%   char possition = 87\r",
      "33.58%   char possition = 88\r",
      "33.96%   char possition = 89\r",
      "34.34%   char possition = 90\r",
      "34.72%   char possition = 91\r",
      "35.09%   char possition = 92\r",
      "35.47%   char possition = 93\r",
      "35.85%   char possition = 94\r",
      "36.23%   char possition = 95\r",
      "36.60%   char possition = 96\r",
      "36.98%   char possition = 97\r",
      "37.36%   char possition = 98\r",
      "37.74%   char possition = 99\r",
      "38.11%   char possition = 100\r",
      "38.49%   char possition = 101\r",
      "38.87%   char possition = 102\r",
      "39.25%   char possition = 103\r",
      "39.62%   char possition = 104\r",
      "40.00%   char possition = 105\r",
      "40.38%   char possition = 106\r",
      "40.75%   char possition = 107\r",
      "41.13%   char possition = 108\r",
      "41.51%   char possition = 109\r",
      "41.89%   char possition = 110\r",
      "42.26%   char possition = 111\r",
      "42.64%   char possition = 112\r",
      "43.02%   char possition = 113\r",
      "43.40%   char possition = 114\r",
      "43.77%   char possition = 115\r",
      "44.15%   char possition = 116\r",
      "44.53%   char possition = 117\r",
      "44.91%   char possition = 118\r",
      "45.28%   char possition = 119\r",
      "45.66%   char possition = 120\r",
      "46.04%   char possition = 121\r",
      "46.42%   char possition = 122\r",
      "46.79%   char possition = 123\r",
      "47.17%   char possition = 124\r",
      "47.55%   char possition = 125\r",
      "47.92%   char possition = 126\r",
      "48.30%   char possition = 127\r",
      "48.68%   char possition = 128\r",
      "49.06%   char possition = 129\r",
      "49.43%   char possition = 130\r",
      "49.81%   char possition = 131\r",
      "50.19%   char possition = 132\r",
      "50.57%   char possition = 133\r",
      "50.94%   char possition = 134\r",
      "51.32%   char possition = 135\r",
      "51.70%   char possition = 136\r",
      "52.08%   char possition = 137\r",
      "52.45%   char possition = 138\r",
      "52.83%   char possition = 139\r",
      "53.21%   char possition = 140\r",
      "53.58%   char possition = 141\r",
      "53.96%   char possition = 142\r",
      "54.34%   char possition = 143\r",
      "54.72%   char possition = 144\r",
      "55.09%   char possition = 145\r",
      "55.47%   char possition = 146\r",
      "55.85%   char possition = 147\r",
      "56.23%   char possition = 148\r",
      "56.60%   char possition = 149\r",
      "56.98%   char possition = 150\r",
      "57.36%   char possition = 151\r",
      "57.74%   char possition = 152\r",
      "58.11%   char possition = 153\r",
      "58.49%   char possition = 154\r",
      "58.87%   char possition = 155\r",
      "59.25%   char possition = 156\r",
      "59.62%   char possition = 157\r",
      "60.00%   char possition = 158\r",
      "60.38%   char possition = 159\r",
      "60.75%   char possition = 160\r",
      "61.13%   char possition = 161\r",
      "61.51%   char possition = 162\r",
      "61.89%   char possition = 163\r",
      "62.26%   char possition = 164\r",
      "62.64%   char possition = 165\r",
      "63.02%   char possition = 166\r",
      "63.40%   char possition = 167\r",
      "63.77%   char possition = 168\r",
      "64.15%   char possition = 169\r",
      "64.53%   char possition = 170\r",
      "64.91%   char possition = 171\r",
      "65.28%   char possition = 172\r",
      "65.66%   char possition = 173\r",
      "66.04%   char possition = 174\r",
      "66.42%   char possition = 175\r",
      "66.79%   char possition = 176\r",
      "67.17%   char possition = 177\r",
      "67.55%   char possition = 178\r",
      "67.92%   char possition = 179\r",
      "68.30%   char possition = 180\r",
      "68.68%   char possition = 181\r",
      "69.06%   char possition = 182\r",
      "69.43%   char possition = 183\r",
      "69.81%   char possition = 184\r",
      "70.19%   char possition = 185\r",
      "70.57%   char possition = 186\r",
      "70.94%   char possition = 187\r",
      "71.32%   char possition = 188\r",
      "71.70%   char possition = 189\r",
      "72.08%   char possition = 190\r",
      "72.45%   char possition = 191\r",
      "72.83%   char possition = 192\r",
      "73.21%   char possition = 193\r",
      "73.58%   char possition = 194\r",
      "73.96%   char possition = 195\r",
      "74.34%   char possition = 196\r",
      "74.72%   char possition = 197\r",
      "75.09%   char possition = 198\r",
      "75.47%   char possition = 199\r",
      "75.85%   char possition = 200\r",
      "76.23%   char possition = 201\r",
      "76.60%   char possition = 202\r",
      "76.98%   char possition = 203\r",
      "77.36%   char possition = 204\r",
      "77.74%   char possition = 205\r",
      "78.11%   char possition = 206\r",
      "78.49%   char possition = 207\r",
      "78.87%   char possition = 208\r",
      "79.25%   char possition = 209\r",
      "79.62%   char possition = 210\r",
      "80.00%   char possition = 211\r",
      "80.38%   char possition = 212\r",
      "80.75%   char possition = 213\r",
      "81.13%   char possition = 214\r",
      "81.51%   char possition = 215\r",
      "81.89%   char possition = 216\r",
      "82.26%   char possition = 217\r",
      "82.64%   char possition = 218\r",
      "83.02%   char possition = 219\r",
      "83.40%   char possition = 220\r",
      "83.77%   char possition = 221\r",
      "84.15%   char possition = 222\r",
      "84.53%   char possition = 223\r",
      "84.91%   char possition = 224\r",
      "85.28%   char possition = 225\r",
      "85.66%   char possition = 226\r",
      "86.04%   char possition = 227\r",
      "86.42%   char possition = 228\r",
      "86.79%   char possition = 229\r",
      "87.17%   char possition = 230\r",
      "87.55%   char possition = 231\r",
      "87.92%   char possition = 232\r",
      "88.30%   char possition = 233\r",
      "88.68%   char possition = 234\r",
      "89.06%   char possition = 235\r",
      "89.43%   char possition = 236\r",
      "89.81%   char possition = 237\r",
      "90.19%   char possition = 238\r",
      "90.57%   char possition = 239\r",
      "90.94%   char possition = 240\r",
      "91.32%   char possition = 241\r",
      "91.70%   char possition = 242\r",
      "92.08%   char possition = 243\r",
      "92.45%   char possition = 244\r",
      "92.83%   char possition = 245\r",
      "93.21%   char possition = 246\r",
      "93.58%   char possition = 247\r",
      "93.96%   char possition = 248\r",
      "94.34%   char possition = 249\r",
      "94.72%   char possition = 250\r",
      "95.09%   char possition = 251\r",
      "95.47%   char possition = 252\r",
      "95.85%   char possition = 253\r",
      "96.23%   char possition = 254\r",
      "96.60%   char possition = 255\r",
      "96.98%   char possition = 256\r",
      "97.36%   char possition = 257\r",
      "97.74%   char possition = 258\r",
      "98.11%   char possition = 259\r",
      "98.49%   char possition = 260\r",
      "98.87%   char possition = 261\r",
      "99.25%   char possition = 262\r",
      "99.62%   char possition = 263\r",
      "100.00%   char possition = 264"
     ]
    },
    {
     "data": {
      "text/plain": [
       "0.004215872480098879"
      ]
     },
     "execution_count": 65,
     "metadata": {},
     "output_type": "execute_result"
    }
   ],
   "source": [
    "RE_masked = Relative_entropy(make_random_copy_text(text))\n",
    "RE_masked"
   ]
  },
  {
   "cell_type": "code",
   "execution_count": 66,
   "metadata": {},
   "outputs": [
    {
     "data": {
      "text/plain": [
       "0.0015596762875937863"
      ]
     },
     "execution_count": 66,
     "metadata": {},
     "output_type": "execute_result"
    }
   ],
   "source": [
    "D = RE_masked - RE\n",
    "D"
   ]
  },
  {
   "cell_type": "markdown",
   "metadata": {},
   "source": [
    "# 3. TTR - Type/Token ratios"
   ]
  },
  {
   "cell_type": "markdown",
   "metadata": {},
   "source": [
    "> C_TTR = V / ( summ(fr_i) )\n",
    "\n",
    "V - number of all types of words  \n",
    "fr - frequency of i type"
   ]
  },
  {
   "cell_type": "code",
   "execution_count": null,
   "metadata": {},
   "outputs": [],
   "source": [
    " simple baseline\n",
    "measure (Kettunen, 2014)"
   ]
  },
  {
   "cell_type": "markdown",
   "metadata": {},
   "source": [
    "# 4. MATTR: TTR + window"
   ]
  },
  {
   "cell_type": "code",
   "execution_count": null,
   "metadata": {},
   "outputs": [],
   "source": []
  }
 ],
 "metadata": {
  "kernelspec": {
   "display_name": "Python 3",
   "language": "python",
   "name": "python3"
  },
  "language_info": {
   "codemirror_mode": {
    "name": "ipython",
    "version": 3
   },
   "file_extension": ".py",
   "mimetype": "text/x-python",
   "name": "python",
   "nbconvert_exporter": "python",
   "pygments_lexer": "ipython3",
   "version": "3.8.5"
  }
 },
 "nbformat": 4,
 "nbformat_minor": 4
}
